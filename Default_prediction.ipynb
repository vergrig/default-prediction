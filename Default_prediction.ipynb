{
  "nbformat": 4,
  "nbformat_minor": 0,
  "metadata": {
    "colab": {
      "provenance": [],
      "collapsed_sections": [],
      "toc_visible": true
    },
    "kernelspec": {
      "name": "python3",
      "display_name": "Python 3"
    },
    "language_info": {
      "name": "python"
    },
    "accelerator": "GPU"
  },
  "cells": [
    {
      "cell_type": "markdown",
      "metadata": {
        "id": "r4gh_deSX_pr"
      },
      "source": [
        "# Подготовительный этап"
      ]
    },
    {
      "cell_type": "markdown",
      "metadata": {
        "id": "JhitMgHgm-cB"
      },
      "source": [
        "### Подключение библиотек"
      ]
    },
    {
      "cell_type": "code",
      "metadata": {
        "id": "Ch3GEtEFbkbA"
      },
      "source": [
        "%%capture\n",
        "\n",
        "import pandas as pd\n",
        "import numpy as np\n",
        "import matplotlib.pyplot as plt\n",
        "import matplotlib.cm as cm\n",
        "import seaborn as sns\n",
        "\n",
        "import copy\n",
        "from time import time\n",
        "\n",
        "# вспомогательные функции\n",
        "from sklearn.model_selection import train_test_split\n",
        "from sklearn.preprocessing import OneHotEncoder\n",
        "\n",
        "# метрики\n",
        "from sklearn.metrics import accuracy_score\n",
        "from sklearn.metrics import roc_auc_score\n",
        "from sklearn.metrics import precision_recall_curve\n",
        "from sklearn.metrics import auc\n",
        "from sklearn.metrics import precision_score\n",
        "from sklearn.metrics import recall_score\n",
        "\n",
        "# модели\n",
        "from sklearn.ensemble import RandomForestClassifier\n",
        "from sklearn.linear_model import LogisticRegression\n",
        "from sklearn.dummy import DummyClassifier\n",
        "from sklearn.calibration import CalibratedClassifierCV\n",
        "from xgboost import XGBClassifier\n",
        "from lightgbm import LGBMClassifier\n",
        "\n",
        "# аугментация данных\n",
        "from imblearn.over_sampling import SMOTE\n",
        "from imblearn.over_sampling import SVMSMOTE\n",
        "from imblearn.over_sampling import ADASYN"
      ],
      "execution_count": null,
      "outputs": []
    },
    {
      "cell_type": "markdown",
      "metadata": {
        "id": "ZrAPKrExm8GJ"
      },
      "source": [
        "Установим optuna"
      ]
    },
    {
      "cell_type": "code",
      "metadata": {
        "id": "ZU0iYk48m7qM"
      },
      "source": [
        "%%capture\n",
        "! pip install optuna\n",
        "import optuna \n",
        "from optuna import Trial, visualization\n",
        "from optuna.samplers import TPESampler"
      ],
      "execution_count": null,
      "outputs": []
    },
    {
      "cell_type": "markdown",
      "metadata": {
        "id": "sx4JgXqGnNb2"
      },
      "source": [
        "Установим CatBoostClassifier"
      ]
    },
    {
      "cell_type": "code",
      "metadata": {
        "id": "7w2ICkZ-nMuZ"
      },
      "source": [
        "%%capture\n",
        "! pip install catboost\n",
        "from catboost import CatBoostClassifier"
      ],
      "execution_count": null,
      "outputs": []
    },
    {
      "cell_type": "markdown",
      "metadata": {
        "id": "6u-7WLbknCI0"
      },
      "source": [
        "### Загрузка датасета"
      ]
    },
    {
      "cell_type": "code",
      "metadata": {
        "id": "cWjsozXAbzK0"
      },
      "source": [
        "df = pd.read_csv('hmeq.csv')"
      ],
      "execution_count": null,
      "outputs": []
    },
    {
      "cell_type": "markdown",
      "metadata": {
        "id": "rMxAS8GUYEyi"
      },
      "source": [
        "Рассмотрим данные таблицы:"
      ]
    },
    {
      "cell_type": "code",
      "metadata": {
        "colab": {
          "base_uri": "https://localhost:8080/",
          "height": 419
        },
        "id": "mgiwJ3vqc5zz",
        "outputId": "6b46ba8a-f891-47bb-975b-c64d07b96e6a"
      },
      "source": [
        "df"
      ],
      "execution_count": null,
      "outputs": [
        {
          "output_type": "execute_result",
          "data": {
            "text/html": [
              "<div>\n",
              "<style scoped>\n",
              "    .dataframe tbody tr th:only-of-type {\n",
              "        vertical-align: middle;\n",
              "    }\n",
              "\n",
              "    .dataframe tbody tr th {\n",
              "        vertical-align: top;\n",
              "    }\n",
              "\n",
              "    .dataframe thead th {\n",
              "        text-align: right;\n",
              "    }\n",
              "</style>\n",
              "<table border=\"1\" class=\"dataframe\">\n",
              "  <thead>\n",
              "    <tr style=\"text-align: right;\">\n",
              "      <th></th>\n",
              "      <th>BAD</th>\n",
              "      <th>LOAN</th>\n",
              "      <th>MORTDUE</th>\n",
              "      <th>VALUE</th>\n",
              "      <th>REASON</th>\n",
              "      <th>JOB</th>\n",
              "      <th>YOJ</th>\n",
              "      <th>DEROG</th>\n",
              "      <th>DELINQ</th>\n",
              "      <th>CLAGE</th>\n",
              "      <th>NINQ</th>\n",
              "      <th>CLNO</th>\n",
              "      <th>DEBTINC</th>\n",
              "    </tr>\n",
              "  </thead>\n",
              "  <tbody>\n",
              "    <tr>\n",
              "      <th>0</th>\n",
              "      <td>1</td>\n",
              "      <td>1100</td>\n",
              "      <td>25860.0</td>\n",
              "      <td>39025.0</td>\n",
              "      <td>HomeImp</td>\n",
              "      <td>Other</td>\n",
              "      <td>10.5</td>\n",
              "      <td>0.0</td>\n",
              "      <td>0.0</td>\n",
              "      <td>94.366667</td>\n",
              "      <td>1.0</td>\n",
              "      <td>9.0</td>\n",
              "      <td>NaN</td>\n",
              "    </tr>\n",
              "    <tr>\n",
              "      <th>1</th>\n",
              "      <td>1</td>\n",
              "      <td>1300</td>\n",
              "      <td>70053.0</td>\n",
              "      <td>68400.0</td>\n",
              "      <td>HomeImp</td>\n",
              "      <td>Other</td>\n",
              "      <td>7.0</td>\n",
              "      <td>0.0</td>\n",
              "      <td>2.0</td>\n",
              "      <td>121.833333</td>\n",
              "      <td>0.0</td>\n",
              "      <td>14.0</td>\n",
              "      <td>NaN</td>\n",
              "    </tr>\n",
              "    <tr>\n",
              "      <th>2</th>\n",
              "      <td>1</td>\n",
              "      <td>1500</td>\n",
              "      <td>13500.0</td>\n",
              "      <td>16700.0</td>\n",
              "      <td>HomeImp</td>\n",
              "      <td>Other</td>\n",
              "      <td>4.0</td>\n",
              "      <td>0.0</td>\n",
              "      <td>0.0</td>\n",
              "      <td>149.466667</td>\n",
              "      <td>1.0</td>\n",
              "      <td>10.0</td>\n",
              "      <td>NaN</td>\n",
              "    </tr>\n",
              "    <tr>\n",
              "      <th>3</th>\n",
              "      <td>1</td>\n",
              "      <td>1500</td>\n",
              "      <td>NaN</td>\n",
              "      <td>NaN</td>\n",
              "      <td>NaN</td>\n",
              "      <td>NaN</td>\n",
              "      <td>NaN</td>\n",
              "      <td>NaN</td>\n",
              "      <td>NaN</td>\n",
              "      <td>NaN</td>\n",
              "      <td>NaN</td>\n",
              "      <td>NaN</td>\n",
              "      <td>NaN</td>\n",
              "    </tr>\n",
              "    <tr>\n",
              "      <th>4</th>\n",
              "      <td>0</td>\n",
              "      <td>1700</td>\n",
              "      <td>97800.0</td>\n",
              "      <td>112000.0</td>\n",
              "      <td>HomeImp</td>\n",
              "      <td>Office</td>\n",
              "      <td>3.0</td>\n",
              "      <td>0.0</td>\n",
              "      <td>0.0</td>\n",
              "      <td>93.333333</td>\n",
              "      <td>0.0</td>\n",
              "      <td>14.0</td>\n",
              "      <td>NaN</td>\n",
              "    </tr>\n",
              "    <tr>\n",
              "      <th>...</th>\n",
              "      <td>...</td>\n",
              "      <td>...</td>\n",
              "      <td>...</td>\n",
              "      <td>...</td>\n",
              "      <td>...</td>\n",
              "      <td>...</td>\n",
              "      <td>...</td>\n",
              "      <td>...</td>\n",
              "      <td>...</td>\n",
              "      <td>...</td>\n",
              "      <td>...</td>\n",
              "      <td>...</td>\n",
              "      <td>...</td>\n",
              "    </tr>\n",
              "    <tr>\n",
              "      <th>5955</th>\n",
              "      <td>0</td>\n",
              "      <td>88900</td>\n",
              "      <td>57264.0</td>\n",
              "      <td>90185.0</td>\n",
              "      <td>DebtCon</td>\n",
              "      <td>Other</td>\n",
              "      <td>16.0</td>\n",
              "      <td>0.0</td>\n",
              "      <td>0.0</td>\n",
              "      <td>221.808718</td>\n",
              "      <td>0.0</td>\n",
              "      <td>16.0</td>\n",
              "      <td>36.112347</td>\n",
              "    </tr>\n",
              "    <tr>\n",
              "      <th>5956</th>\n",
              "      <td>0</td>\n",
              "      <td>89000</td>\n",
              "      <td>54576.0</td>\n",
              "      <td>92937.0</td>\n",
              "      <td>DebtCon</td>\n",
              "      <td>Other</td>\n",
              "      <td>16.0</td>\n",
              "      <td>0.0</td>\n",
              "      <td>0.0</td>\n",
              "      <td>208.692070</td>\n",
              "      <td>0.0</td>\n",
              "      <td>15.0</td>\n",
              "      <td>35.859971</td>\n",
              "    </tr>\n",
              "    <tr>\n",
              "      <th>5957</th>\n",
              "      <td>0</td>\n",
              "      <td>89200</td>\n",
              "      <td>54045.0</td>\n",
              "      <td>92924.0</td>\n",
              "      <td>DebtCon</td>\n",
              "      <td>Other</td>\n",
              "      <td>15.0</td>\n",
              "      <td>0.0</td>\n",
              "      <td>0.0</td>\n",
              "      <td>212.279697</td>\n",
              "      <td>0.0</td>\n",
              "      <td>15.0</td>\n",
              "      <td>35.556590</td>\n",
              "    </tr>\n",
              "    <tr>\n",
              "      <th>5958</th>\n",
              "      <td>0</td>\n",
              "      <td>89800</td>\n",
              "      <td>50370.0</td>\n",
              "      <td>91861.0</td>\n",
              "      <td>DebtCon</td>\n",
              "      <td>Other</td>\n",
              "      <td>14.0</td>\n",
              "      <td>0.0</td>\n",
              "      <td>0.0</td>\n",
              "      <td>213.892709</td>\n",
              "      <td>0.0</td>\n",
              "      <td>16.0</td>\n",
              "      <td>34.340882</td>\n",
              "    </tr>\n",
              "    <tr>\n",
              "      <th>5959</th>\n",
              "      <td>0</td>\n",
              "      <td>89900</td>\n",
              "      <td>48811.0</td>\n",
              "      <td>88934.0</td>\n",
              "      <td>DebtCon</td>\n",
              "      <td>Other</td>\n",
              "      <td>15.0</td>\n",
              "      <td>0.0</td>\n",
              "      <td>0.0</td>\n",
              "      <td>219.601002</td>\n",
              "      <td>0.0</td>\n",
              "      <td>16.0</td>\n",
              "      <td>34.571519</td>\n",
              "    </tr>\n",
              "  </tbody>\n",
              "</table>\n",
              "<p>5960 rows × 13 columns</p>\n",
              "</div>"
            ],
            "text/plain": [
              "      BAD   LOAN  MORTDUE     VALUE  ...       CLAGE NINQ  CLNO    DEBTINC\n",
              "0       1   1100  25860.0   39025.0  ...   94.366667  1.0   9.0        NaN\n",
              "1       1   1300  70053.0   68400.0  ...  121.833333  0.0  14.0        NaN\n",
              "2       1   1500  13500.0   16700.0  ...  149.466667  1.0  10.0        NaN\n",
              "3       1   1500      NaN       NaN  ...         NaN  NaN   NaN        NaN\n",
              "4       0   1700  97800.0  112000.0  ...   93.333333  0.0  14.0        NaN\n",
              "...   ...    ...      ...       ...  ...         ...  ...   ...        ...\n",
              "5955    0  88900  57264.0   90185.0  ...  221.808718  0.0  16.0  36.112347\n",
              "5956    0  89000  54576.0   92937.0  ...  208.692070  0.0  15.0  35.859971\n",
              "5957    0  89200  54045.0   92924.0  ...  212.279697  0.0  15.0  35.556590\n",
              "5958    0  89800  50370.0   91861.0  ...  213.892709  0.0  16.0  34.340882\n",
              "5959    0  89900  48811.0   88934.0  ...  219.601002  0.0  16.0  34.571519\n",
              "\n",
              "[5960 rows x 13 columns]"
            ]
          },
          "metadata": {
            "tags": []
          },
          "execution_count": 81
        }
      ]
    },
    {
      "cell_type": "markdown",
      "metadata": {
        "id": "-j_EX72XMDfw"
      },
      "source": [
        "Для начала давайте рассмотрим длю пропусков в каждой колонке:"
      ]
    },
    {
      "cell_type": "code",
      "metadata": {
        "colab": {
          "base_uri": "https://localhost:8080/"
        },
        "id": "WnmIt_48MHYp",
        "outputId": "57ec527b-931b-4332-e7dd-74b6a90b56a2"
      },
      "source": [
        "df.isna().mean(axis=0)"
      ],
      "execution_count": null,
      "outputs": [
        {
          "output_type": "execute_result",
          "data": {
            "text/plain": [
              "BAD        0.000000\n",
              "LOAN       0.000000\n",
              "MORTDUE    0.086913\n",
              "VALUE      0.018792\n",
              "REASON     0.042282\n",
              "JOB        0.046812\n",
              "YOJ        0.086409\n",
              "DEROG      0.118792\n",
              "DELINQ     0.097315\n",
              "CLAGE      0.051678\n",
              "NINQ       0.085570\n",
              "CLNO       0.037248\n",
              "DEBTINC    0.212584\n",
              "dtype: float64"
            ]
          },
          "metadata": {
            "tags": []
          },
          "execution_count": 82
        }
      ]
    },
    {
      "cell_type": "markdown",
      "metadata": {
        "id": "N-epaHvvYTEK"
      },
      "source": [
        "# Работа с данными"
      ]
    },
    {
      "cell_type": "markdown",
      "metadata": {
        "id": "bTLniV-lHTrW"
      },
      "source": [
        "При рассмотрении этих данных стоит учитывать тот факт, что все эти заявки - кредиты, уже одобренные прошлым алгоритмом. Из-за этого отличия в данных говорят скорее не об особенностях клиентов, а о предвзятостях существующей модели."
      ]
    },
    {
      "cell_type": "markdown",
      "metadata": {
        "id": "QAEM9BU7YoBx"
      },
      "source": [
        "### Графики распределения по признакам"
      ]
    },
    {
      "cell_type": "markdown",
      "metadata": {
        "id": "xby4jO1KY5Wq"
      },
      "source": [
        "**Числовые признаки**"
      ]
    },
    {
      "cell_type": "code",
      "metadata": {
        "id": "FxifWiuJ2aLK",
        "colab": {
          "base_uri": "https://localhost:8080/",
          "height": 458
        },
        "outputId": "41451fcb-d4a1-42c0-e9bc-375acfb95450"
      },
      "source": [
        "plt.figure(figsize=(10, 7))\n",
        "plt.hist(df['LOAN'][df['BAD'] == 0], bins=100, alpha=0.5, label='good', density=True)\n",
        "plt.hist(df['LOAN'][df['BAD'] == 1], bins=100, alpha=0.5, label='bad', density=True, color='red')\n",
        "plt.legend()\n",
        "plt.xlabel('Размер запрашиваемого займа')\n",
        "plt.title('Распределение размера займа для неудачных и удачных кредитов')\n",
        "plt.show()"
      ],
      "execution_count": null,
      "outputs": [
        {
          "output_type": "display_data",
          "data": {
            "image/png": "[encoded data removed]",
            "text/plain": [
              "<Figure size 720x504 with 1 Axes>"
            ]
          },
          "metadata": {
            "tags": [],
            "needs_background": "light"
          }
        }
      ]
    },
    {
      "cell_type": "code",
      "metadata": {
        "colab": {
          "base_uri": "https://localhost:8080/",
          "height": 458
        },
        "id": "6URjgYsKB5_7",
        "outputId": "3a260ff5-bc1c-4529-cf73-4c58ad6e1d26"
      },
      "source": [
        "plt.figure(figsize=(10, 7))\n",
        "\n",
        "plt.hist(df['MORTDUE'][df['BAD'] == 0], bins=100, alpha=0.5, label='good', density=True)\n",
        "plt.hist(df['MORTDUE'][df['BAD'] == 1], bins=100, alpha=0.5, label='bad', density=True, color='red')\n",
        "plt.legend()\n",
        "plt.xlabel('Размер остатка по ипотеке')\n",
        "plt.title('Распределение остатка по ипотеке для неудачных и удачных кредитов')\n",
        "\n",
        "plt.show()"
      ],
      "execution_count": null,
      "outputs": [
        {
          "output_type": "display_data",
          "data": {
            "image/png": "[encoded data removed]",
            "text/plain": [
              "<Figure size 720x504 with 1 Axes>"
            ]
          },
          "metadata": {
            "tags": [],
            "needs_background": "light"
          }
        }
      ]
    },
    {
      "cell_type": "code",
      "metadata": {
        "colab": {
          "base_uri": "https://localhost:8080/",
          "height": 459
        },
        "id": "5XQG6WWmCPAr",
        "outputId": "beb3d3a0-afa5-4f11-faab-b736c5433606"
      },
      "source": [
        "plt.figure(figsize=(10, 7))\n",
        "\n",
        "plt.hist(df['VALUE'][df['BAD'] == 0], bins=100, alpha=0.5, label='good', density=True)\n",
        "plt.hist(df['VALUE'][df['BAD'] == 1], bins=100, alpha=0.5, label='bad', density=True, color='red')\n",
        "plt.legend()\n",
        "plt.xlabel('Суммарная стоимость собственности')\n",
        "plt.title('Распределение суммарной стоимости собственности для неудачных и удачных кредитов')\n",
        "\n",
        "plt.show()"
      ],
      "execution_count": null,
      "outputs": [
        {
          "output_type": "display_data",
          "data": {
            "image/png": "[encoded data removed]",
            "text/plain": [
              "<Figure size 720x504 with 1 Axes>"
            ]
          },
          "metadata": {
            "tags": [],
            "needs_background": "light"
          }
        }
      ]
    },
    {
      "cell_type": "markdown",
      "metadata": {
        "id": "2crBX9lfY8-8"
      },
      "source": [
        "**Категориальные признаки**"
      ]
    },
    {
      "cell_type": "code",
      "metadata": {
        "colab": {
          "base_uri": "https://localhost:8080/",
          "height": 442
        },
        "id": "YAfmVvTHC7KE",
        "outputId": "21de40a0-64cb-4b1f-eabd-07f2f1dae145"
      },
      "source": [
        "plt.figure(figsize=(10, 7))\n",
        "plt.bar(x=['DebtCon', 'HomeImp'], height=(df.groupby('REASON').mean()['BAD']))\n",
        "plt.ylabel('Доля банкротств')\n",
        "plt.xlabel('Повод для займа')\n",
        "plt.show()"
      ],
      "execution_count": null,
      "outputs": [
        {
          "output_type": "display_data",
          "data": {
            "image/png": "[encoded data removed]",
            "text/plain": [
              "<Figure size 720x504 with 1 Axes>"
            ]
          },
          "metadata": {
            "tags": [],
            "needs_background": "light"
          }
        }
      ]
    },
    {
      "cell_type": "markdown",
      "metadata": {
        "id": "DRI2VFwfIsqH"
      },
      "source": [
        "Интуитивно понятно, что реструктуризация долгов - потенциально более рискованная инвестиция, чем покупка для улучшения дома. Возможно прошлые данные овер-компенсировали этот риск, поэтому в нашем датасете реструктуризация статистически надежнее."
      ]
    },
    {
      "cell_type": "code",
      "metadata": {
        "colab": {
          "base_uri": "https://localhost:8080/",
          "height": 442
        },
        "id": "QpSFZscACp0-",
        "outputId": "f70004e3-be0d-49bf-d1ab-03c676427ac5"
      },
      "source": [
        "plt.figure(figsize=(10, 7))\n",
        "plt.bar(x=(df.groupby('JOB').mean()['BAD']).index, height=(df.groupby('JOB').mean()['BAD']))\n",
        "plt.ylabel('Доля банкротств')\n",
        "plt.xlabel('Место работы')\n",
        "\n",
        "plt.show()"
      ],
      "execution_count": null,
      "outputs": [
        {
          "output_type": "display_data",
          "data": {
            "image/png": "[encoded data removed]",
            "text/plain": [
              "<Figure size 720x504 with 1 Axes>"
            ]
          },
          "metadata": {
            "tags": [],
            "needs_background": "light"
          }
        }
      ]
    },
    {
      "cell_type": "markdown",
      "metadata": {
        "id": "BECkaBUTZBzQ"
      },
      "source": [
        "### Значимость признаков"
      ]
    },
    {
      "cell_type": "markdown",
      "metadata": {
        "id": "YFwxUi6jLya7"
      },
      "source": [
        "Давайте оценим важность признаков с помощью t-статистики, чтобы выделить наиболее значимые для нашей классификации"
      ]
    },
    {
      "cell_type": "code",
      "metadata": {
        "id": "U9_JtmVJ1xmp"
      },
      "source": [
        "dfpos = df[df['BAD'] == 0].drop(['BAD', 'JOB', 'REASON'] , axis=1)\n",
        "dfneg = df[df['BAD'] == 1].drop(['BAD', 'JOB', 'REASON'] , axis=1)\n",
        "t = np.abs(dfpos.mean(axis=0) - dfneg.mean(axis=0)) / np.sqrt((len(dfpos) * dfpos.std(axis=0)**2 + len(dfneg) * dfneg.std(axis=0)**2)/ (len(dfpos) + len(dfneg)))\n"
      ],
      "execution_count": null,
      "outputs": []
    },
    {
      "cell_type": "code",
      "metadata": {
        "colab": {
          "base_uri": "https://localhost:8080/"
        },
        "id": "cUA1PrdVLZX-",
        "outputId": "fdf7d98d-4697-4bcb-fe77-04e1cd4b9855"
      },
      "source": [
        "t"
      ],
      "execution_count": null,
      "outputs": [
        {
          "output_type": "execute_result",
          "data": {
            "text/plain": [
              "LOAN       0.188425\n",
              "MORTDUE    0.120885\n",
              "VALUE      0.076650\n",
              "YOJ        0.148999\n",
              "DEROG      0.715846\n",
              "DELINQ     0.944193\n",
              "CLAGE      0.435324\n",
              "NINQ       0.441615\n",
              "CLNO       0.010427\n",
              "DEBTINC    0.609487\n",
              "dtype: float64"
            ]
          },
          "metadata": {
            "tags": []
          },
          "execution_count": 89
        }
      ]
    },
    {
      "cell_type": "markdown",
      "metadata": {
        "id": "mAvJr9aBMpRP"
      },
      "source": [
        "'DEROG', 'DELINQ' - обобщая, эти признаки говорят нам об уже просроченных кредитах. Понятно, почему эти признаки очень важны."
      ]
    },
    {
      "cell_type": "markdown",
      "metadata": {
        "id": "ljENQE3iNav0"
      },
      "source": [
        "'DEBTINC' - отношение долга к доходу"
      ]
    },
    {
      "cell_type": "code",
      "metadata": {
        "colab": {
          "base_uri": "https://localhost:8080/",
          "height": 442
        },
        "id": "656Q893MNjDe",
        "outputId": "73dd4f72-70d3-43ac-cce1-d5003d2ad50c"
      },
      "source": [
        "plt.figure(figsize=(10, 7))\n",
        "\n",
        "plt.hist(df['DELINQ'][df['BAD'] == 0], bins=5, alpha=0.5, label='good', density=True)\n",
        "plt.hist(df['DELINQ'][df['BAD'] == 1], bins=15, alpha=0.5, label='bad', density=True, color='red')\n",
        "plt.legend()\n",
        "plt.xlabel('Количество просрочек по кредиту')\n",
        "\n",
        "plt.show()"
      ],
      "execution_count": null,
      "outputs": [
        {
          "output_type": "display_data",
          "data": {
            "image/png": "[encoded data removed]",
            "text/plain": [
              "<Figure size 720x504 with 1 Axes>"
            ]
          },
          "metadata": {
            "tags": [],
            "needs_background": "light"
          }
        }
      ]
    },
    {
      "cell_type": "code",
      "metadata": {
        "colab": {
          "base_uri": "https://localhost:8080/",
          "height": 442
        },
        "id": "QlJJTzoEOG4D",
        "outputId": "7a76c0ed-153f-4769-9f77-6b3315eebf8e"
      },
      "source": [
        "plt.figure(figsize=(10, 7))\n",
        "\n",
        "plt.hist(df['DEROG'][df['BAD'] == 0], bins=range(10), alpha=0.5, label='good', density=True)\n",
        "plt.hist(df['DEROG'][df['BAD'] == 1], bins=range(10), alpha=0.5, label='bad', density=True, color='red')\n",
        "plt.legend()\n",
        "plt.xlabel('Количество прблем по кредиту')\n",
        "\n",
        "plt.show()"
      ],
      "execution_count": null,
      "outputs": [
        {
          "output_type": "display_data",
          "data": {
            "image/png": "[encoded data removed]",
            "text/plain": [
              "<Figure size 720x504 with 1 Axes>"
            ]
          },
          "metadata": {
            "tags": [],
            "needs_background": "light"
          }
        }
      ]
    },
    {
      "cell_type": "code",
      "metadata": {
        "colab": {
          "base_uri": "https://localhost:8080/"
        },
        "id": "I9hFIbnwb1pD",
        "outputId": "c9777a2f-93ef-43cd-c6cd-93d4e75956b0"
      },
      "source": [
        "df['REASON'].value_counts()"
      ],
      "execution_count": null,
      "outputs": [
        {
          "output_type": "execute_result",
          "data": {
            "text/plain": [
              "DebtCon    3928\n",
              "HomeImp    1780\n",
              "Name: REASON, dtype: int64"
            ]
          },
          "metadata": {
            "tags": []
          },
          "execution_count": 92
        }
      ]
    },
    {
      "cell_type": "code",
      "metadata": {
        "colab": {
          "base_uri": "https://localhost:8080/"
        },
        "id": "7uo80n8Kc7Aq",
        "outputId": "304f6362-a17f-4285-a0db-ac316b33cc81"
      },
      "source": [
        "df['JOB'].value_counts()"
      ],
      "execution_count": null,
      "outputs": [
        {
          "output_type": "execute_result",
          "data": {
            "text/plain": [
              "Other      2388\n",
              "ProfExe    1276\n",
              "Office      948\n",
              "Mgr         767\n",
              "Self        193\n",
              "Sales       109\n",
              "Name: JOB, dtype: int64"
            ]
          },
          "metadata": {
            "tags": []
          },
          "execution_count": 93
        }
      ]
    },
    {
      "cell_type": "code",
      "metadata": {
        "colab": {
          "base_uri": "https://localhost:8080/"
        },
        "id": "6CF1kuqeehth",
        "outputId": "fc0387de-14ea-48d5-86e5-a0587f522a73"
      },
      "source": [
        "df.isna().sum()"
      ],
      "execution_count": null,
      "outputs": [
        {
          "output_type": "execute_result",
          "data": {
            "text/plain": [
              "BAD           0\n",
              "LOAN          0\n",
              "MORTDUE     518\n",
              "VALUE       112\n",
              "REASON      252\n",
              "JOB         279\n",
              "YOJ         515\n",
              "DEROG       708\n",
              "DELINQ      580\n",
              "CLAGE       308\n",
              "NINQ        510\n",
              "CLNO        222\n",
              "DEBTINC    1267\n",
              "dtype: int64"
            ]
          },
          "metadata": {
            "tags": []
          },
          "execution_count": 94
        }
      ]
    },
    {
      "cell_type": "markdown",
      "metadata": {
        "id": "qZ-v50mjZOMx"
      },
      "source": [
        "### Заполнение пропусков"
      ]
    },
    {
      "cell_type": "markdown",
      "metadata": {
        "id": "PFOOjivbO8Vn"
      },
      "source": [
        "Давайте для начала заполним пропуски в категориальных переменных отдельным значением, в числовых - средним, а переменную с наибольшим количеством пропусков пока удалим."
      ]
    },
    {
      "cell_type": "code",
      "metadata": {
        "id": "heN-tW9ne2Hb"
      },
      "source": [
        "df_pure = copy.deepcopy(df).drop('DEBTINC', axis=1)\n",
        "df_pure[['JOB', 'REASON']] = df_pure[['JOB', 'REASON']].fillna('NAN')\n",
        "df_pure = df_pure.fillna(df_pure.mean(axis=0))\n",
        "\n",
        "y = df_pure['BAD'].values\n",
        "X = df_pure.drop(\"BAD\", axis=1).values"
      ],
      "execution_count": null,
      "outputs": []
    },
    {
      "cell_type": "markdown",
      "metadata": {
        "id": "Ehf9-zwuQKLa"
      },
      "source": [
        "Закодируем категориальные переменные"
      ]
    },
    {
      "cell_type": "code",
      "metadata": {
        "id": "5juW_MaSxYhP"
      },
      "source": [
        "ohe = OneHotEncoder(sparse=False)"
      ],
      "execution_count": null,
      "outputs": []
    },
    {
      "cell_type": "code",
      "metadata": {
        "id": "DncrNIsqgRHx"
      },
      "source": [
        "X = np.concatenate((X[:, :3], ohe.fit_transform(X[:, [3, 4]]), X[:, 5:]), axis=1)"
      ],
      "execution_count": null,
      "outputs": []
    },
    {
      "cell_type": "markdown",
      "metadata": {
        "id": "2HIN6OLnZsdo"
      },
      "source": [
        "Разобьем на тренировочные и тестовые данные"
      ]
    },
    {
      "cell_type": "code",
      "metadata": {
        "id": "02hzycSigOYh"
      },
      "source": [
        "X_train, X_test, y_train, y_test = train_test_split(X, y, test_size=0.15, random_state=179)\n",
        "X_val, X_test, y_val, y_test = train_test_split(X_test, y_test, test_size=0.5, random_state=179)"
      ],
      "execution_count": null,
      "outputs": []
    },
    {
      "cell_type": "markdown",
      "metadata": {
        "id": "EsWFgq5FZyby"
      },
      "source": [
        "Проверим данные"
      ]
    },
    {
      "cell_type": "code",
      "metadata": {
        "id": "-6jN4rDFisJC"
      },
      "source": [
        "isnatrain, isnatest = train_test_split(df.isna().mean(axis=1), test_size=0.3, random_state=179)"
      ],
      "execution_count": null,
      "outputs": []
    },
    {
      "cell_type": "markdown",
      "metadata": {
        "id": "GUio-0EyaNgA"
      },
      "source": [
        "# Вспомогательные функции"
      ]
    },
    {
      "cell_type": "markdown",
      "metadata": {
        "id": "gdac28URcLVz"
      },
      "source": [
        "Рассмотрим различные критерии, по которым можно сравнить результат работы моделей"
      ]
    },
    {
      "cell_type": "markdown",
      "metadata": {
        "id": "Gau9yaNNdNKs"
      },
      "source": [
        "### Стандартные критерии"
      ]
    },
    {
      "cell_type": "markdown",
      "metadata": {
        "id": "gi1VgGORcj9Z"
      },
      "source": [
        "\n",
        "\n",
        "*   accuracy, как удобныая и интерпретируемая, но не всегда информативная метрика\n",
        "*   площадь под precision-recall кривой\n",
        "*   площадь по tpr/fpr кривой\n",
        "*   F-мера\n",
        "\n"
      ]
    },
    {
      "cell_type": "markdown",
      "metadata": {
        "id": "EfztCVe_dPhV"
      },
      "source": [
        "### Вспомогательные критерии "
      ]
    },
    {
      "cell_type": "markdown",
      "metadata": {
        "id": "CNAH8FHMajXa"
      },
      "source": [
        "Реализуем также \n",
        "\n",
        "*   Cohen's kappa coefficient (https://en.wikipedia.org/wiki/Cohen%27s_kappa) \n",
        "\n",
        "$$\\kappa = \\frac{p_o - p_e}{1 - p_e}$$\n",
        "\n",
        "*   Matthews correlation coefficient (https://en.wikipedia.org/wiki/Matthews_correlation_coefficient)\n",
        "\n",
        "$$\\text{MCC} = \\frac{TP\\times TN - FP \\times FN}{\\sqrt{(TP+FP)(TP+FN)(TN+FP)(TN+FN)}}$$ \n",
        "\n"
      ]
    },
    {
      "cell_type": "code",
      "metadata": {
        "id": "ddgjiHBuacy8"
      },
      "source": [
        "def kappa(y0, y1, pos=1, neg=0):\n",
        "    po = accuracy_score(y0, y1)\n",
        "\n",
        "    pos0 = (y0 == pos).mean()\n",
        "    pos1 = (y1 == pos).mean()\n",
        "    pe = (pos0 * pos1) + (1 - pos0) * (1 - pos1)\n",
        "\n",
        "    k = (po - pe) / (1 - pe)\n",
        "    return k\n",
        "\n",
        "def matthews(pred, target, pos=1, neg=0):\n",
        "    tp = np.sum((pred == pos) & (target == pos))\n",
        "    tn = np.sum((pred == neg) & (target == neg))\n",
        "    fp = np.sum((pred == pos) & (target == neg))\n",
        "    fn = np.sum((pred == neg) & (target == pos))\n",
        "\n",
        "    if (tp + fp) * (tp + fn) * (tn + fp) * (tn + fn) == 0:\n",
        "        return 0 # условность, чтобы не вылезало так много nan\n",
        "\n",
        "    return (tp * tn - fp * fn) / np.sqrt((tp + fp) * (tp + fn) * (tn + fp) * (tn + fn))"
      ],
      "execution_count": null,
      "outputs": []
    },
    {
      "cell_type": "markdown",
      "metadata": {
        "id": "Dk_V4ZRZdJsI"
      },
      "source": [
        "### Бизнес критерий"
      ]
    },
    {
      "cell_type": "markdown",
      "metadata": {
        "id": "1LRgUfuadrCM"
      },
      "source": [
        "Было бы логично предположить, что невозврат денег для нас несет больше урона, чем бы нам принесло успешное возвращение. Это говорит нам о том, что порог выдачи кредита стоит выставить ниже чем 0.5 вероятности дефолта"
      ]
    },
    {
      "cell_type": "markdown",
      "metadata": {
        "id": "xx3ZI6kwdtX3"
      },
      "source": [
        "Напишем функцию, которая максимизирует ожидание прибыли, исходя из предположения о том, что наша выгода составляет x% суммы, и если человек не возвращает сумму, он не возвращает ее целиком"
      ]
    },
    {
      "cell_type": "code",
      "metadata": {
        "id": "K1bkUnUAdwQK"
      },
      "source": [
        "def get_prediction(mod, X_test, y_test, x=15):\n",
        "    y_prob = mod.predict_proba(X_test)[:, 1]\n",
        "    threshold = (x / 100) / (1 + x / 100)\n",
        "    y_pred = y_prob > threshold\n",
        "    return y_pred * 1.0"
      ],
      "execution_count": null,
      "outputs": []
    },
    {
      "cell_type": "markdown",
      "metadata": {
        "id": "YlaU_x1Hd_eg"
      },
      "source": [
        "Введем метрику, которая оценивает лосс как упущенную выгоду, по сравнению с идеальным предсказанием."
      ]
    },
    {
      "cell_type": "code",
      "metadata": {
        "id": "A63QwH2Cd9MQ"
      },
      "source": [
        "def get_gain(y_pred, y_target, loan, x=15):\n",
        "    return (((y_pred == 1) & (y_target == 1)) * loan - ((y_pred == 1) & (y_target == 0)) * loan * x / 100).sum() / loan.sum()"
      ],
      "execution_count": null,
      "outputs": []
    },
    {
      "cell_type": "markdown",
      "metadata": {
        "id": "kbVcVVwCdyVd"
      },
      "source": [
        "### Объеденим в функцию"
      ]
    },
    {
      "cell_type": "code",
      "metadata": {
        "id": "3kNsDitujMPX"
      },
      "source": [
        "logs = dict()"
      ],
      "execution_count": null,
      "outputs": []
    },
    {
      "cell_type": "code",
      "metadata": {
        "id": "vP6dKql9aRVB"
      },
      "source": [
        "def rate(mod, X_test, y_test, name=\"model\", x=15):\n",
        "    y_pred = mod.predict(X_test)\n",
        "    print(\"====== \" + name + \" ======\")\n",
        "    print()\n",
        "    ac = accuracy_score(y_pred, y_test)\n",
        "    print(f\"Accuracy:\\t{accuracy_score(y_pred, y_test)}\")\n",
        "    print(f\"Pos/neg ratio:\\t{(y_pred == 1).sum() / (y_pred == 0).sum()}\")\n",
        "    print()\n",
        "\n",
        "    print(f\"Kappa coef:\\t{kappa(y_pred, y_test)}\")\n",
        "    print(f\"Matthews coef:\\t{matthews(y_pred, y_test)}\")\n",
        "    print(f\"ROC-AUC value:\\t{roc_auc_score(y_test, mod.predict_proba(X_test)[:, 1])}\")\n",
        "    auc_pr = auc(*reversed((precision_recall_curve(y_test, mod.predict_proba(X_test)[:, 1]))[:2]))\n",
        "    print(f\"PR-AUC value:\\t{auc_pr}\")\n",
        "    pr = precision_score(y_test, y_pred)\n",
        "    rc = recall_score(y_test, y_pred)\n",
        "    print()\n",
        "    print(f\"Precision:\\t{pr}\")\n",
        "    print(f\"Recall: \\t{rc}\")\n",
        "    fscore = 2 * pr * rc / (pr + rc)\n",
        "    print(f\"F-score:\\t{fscore}\")\n",
        "\n",
        "    loan = X_test[:, 0]\n",
        "    y_pred_financial = get_prediction(mod, X_test, y_test, x=x)\n",
        "    gains = get_gain(y_pred_financial, y_test, loan, x=x)\n",
        "    print(f\"Financial gain:\\t{gains}\")\n",
        "    print()\n",
        "    print(\"=======\" + '=' * len(name) + \"=======\")\n",
        "    return ac, auc_pr, fscore, gains"
      ],
      "execution_count": null,
      "outputs": []
    },
    {
      "cell_type": "code",
      "metadata": {
        "id": "vz609Spbg6kr"
      },
      "source": [
        "def string_time(elapsed):\n",
        "    return \"%im %is\" %(int(elapsed / 60), int(elapsed % 60))"
      ],
      "execution_count": null,
      "outputs": []
    },
    {
      "cell_type": "code",
      "metadata": {
        "id": "rYwtcDWGgK-8"
      },
      "source": [
        "def run(mod, X_train, y_train, X_test, y_test, name='model', x=15):\n",
        "    global logs\n",
        "\n",
        "    start_time = time()\n",
        "    mod.fit(X_train, y_train)\n",
        "    end_time = time()\n",
        "    ac, auc_pr, fscore, gains = rate(mod, X_test, y_test, name=name, x=x)\n",
        "    elapsed = end_time - start_time\n",
        "    print(\"Time elapsed: \" + string_time(elapsed))\n",
        "\n",
        "    logs[name] = [ac, auc_pr, fscore, gains, elapsed, name]\n",
        "\n",
        "    return mod.predict(X_test)"
      ],
      "execution_count": null,
      "outputs": []
    },
    {
      "cell_type": "markdown",
      "metadata": {
        "id": "yvk4YHb4rdIa"
      },
      "source": [
        "### Калибровочная кривая"
      ]
    },
    {
      "cell_type": "markdown",
      "metadata": {
        "id": "FuESVwuErfqQ"
      },
      "source": [
        "Для оценки результата и внесения корректировок нам также понадобится калибровочная кривая"
      ]
    },
    {
      "cell_type": "code",
      "metadata": {
        "id": "sqW0NWkGrkof"
      },
      "source": [
        "def calibration_curve(mod, X, y):\n",
        "    probs = mod.predict_proba(X)[:, 1]\n",
        "    vals = []\n",
        "    for prob in np.arange(0, 1, 0.05):\n",
        "        vals.append(y[(probs >= prob) & (probs < prob + 0.05)].mean())\n",
        "    plt.plot(np.arange(0, 1, 0.05) + 0.025, vals, label='Our curve')\n",
        "    plt.plot(np.arange(0, 1, 0.05) + 0.025, np.arange(0, 1, 0.05) + 0.025, label='Perfect curve')\n",
        "    return vals\n",
        "\n",
        "def build_calibration_curve(mod, X, y, sz=(10,10)):\n",
        "    plt.figure(figsize=sz)\n",
        "    vals = calibration_curve(mod, X, y)\n",
        "    plt.xlabel('Predicted probability', fontdict={'size':15})\n",
        "    plt.ylabel('Fraction of positive results for this probability', fontdict={'size':15})\n",
        "    plt.legend()\n",
        "    plt.show()"
      ],
      "execution_count": null,
      "outputs": []
    },
    {
      "cell_type": "markdown",
      "metadata": {
        "id": "HxE3PFj503je"
      },
      "source": [
        "### Разное"
      ]
    },
    {
      "cell_type": "code",
      "metadata": {
        "id": "1k8NIKyV02sY"
      },
      "source": [
        "def print_vals(d):\n",
        "    ans = ''\n",
        "    for key, val in d.items():\n",
        "        ans += key + '=' + str(val) + ', '\n",
        "    return ans[:-2]"
      ],
      "execution_count": null,
      "outputs": []
    },
    {
      "cell_type": "markdown",
      "metadata": {
        "id": "Y1-dlbc8Z0D7"
      },
      "source": [
        "# Подготовка базовой модели"
      ]
    },
    {
      "cell_type": "markdown",
      "metadata": {
        "id": "812OhZshfVur"
      },
      "source": [
        "Перед сравнением моделей выведем баланс классов в исходной выборке"
      ]
    },
    {
      "cell_type": "code",
      "metadata": {
        "colab": {
          "base_uri": "https://localhost:8080/"
        },
        "id": "xouI-sB1faLb",
        "outputId": "96483992-c218-41a6-87d0-54ad9713961d"
      },
      "source": [
        "print(f\"Positive train targets: {(y_train == 1).sum()}, negative train targets: {(y_train == 0).sum()}, ratio: {(y_train == 1).sum() / (y_train == 0).sum()}\")\n",
        "print(f\"Positive val targets: {(y_val == 1).sum()}, negative val targets: {(y_val == 0).sum()}, ratio: {(y_val == 1).sum() / (y_val == 0).sum()}\")\n",
        "print(f\"Positive test targets: {(y_test == 1).sum()}, negative test targets: {(y_test == 0).sum()}, ratio: {(y_test == 1).sum() / (y_test == 0).sum()}\")"
      ],
      "execution_count": null,
      "outputs": [
        {
          "output_type": "stream",
          "text": [
            "Positive train targets: 994, negative train targets: 4072, ratio: 0.24410609037328093\n",
            "Positive val targets: 96, negative val targets: 351, ratio: 0.27350427350427353\n",
            "Positive test targets: 99, negative test targets: 348, ratio: 0.28448275862068967\n"
          ],
          "name": "stdout"
        }
      ]
    },
    {
      "cell_type": "markdown",
      "metadata": {
        "id": "TQ_AH1ItaEOC"
      },
      "source": [
        "В качестве baseline будем использовать random forest"
      ]
    },
    {
      "cell_type": "code",
      "metadata": {
        "id": "HYGwrZjvfqGU",
        "colab": {
          "base_uri": "https://localhost:8080/"
        },
        "outputId": "27504f06-76f8-442d-e42c-6a36106261e6"
      },
      "source": [
        "rlf_baseline = RandomForestClassifier(n_estimators=1000, random_state=179)\n",
        "y_pred = run(rlf_baseline, X_train, y_train, X_test, y_test, name='Random Forest', x=15)"
      ],
      "execution_count": null,
      "outputs": [
        {
          "output_type": "stream",
          "text": [
            "====== Random Forest ======\n",
            "\n",
            "Accuracy:\t0.9463087248322147\n",
            "Pos/neg ratio:\t0.20810810810810812\n",
            "\n",
            "Kappa coef:\t0.8308580077570711\n",
            "Matthews coef:\t0.8410284623553973\n",
            "ROC-AUC value:\t0.9902618135376756\n",
            "PR-AUC value:\t0.9752986314553959\n",
            "\n",
            "Precision:\t0.987012987012987\n",
            "Recall: \t0.7676767676767676\n",
            "F-score:\t0.8636363636363635\n",
            "Financial gain:\t0.2009025651852634\n",
            "\n",
            "===========================\n",
            "Time elapsed: 0m 6s\n"
          ],
          "name": "stdout"
        }
      ]
    },
    {
      "cell_type": "markdown",
      "metadata": {
        "id": "09eiz0xwYRl6"
      },
      "source": [
        "Заметим, что если выдавать кредит согласно предсказаниям модели, без поправки на оценку прибыли, ожидаемая прибыль будет существенно хуже:"
      ]
    },
    {
      "cell_type": "code",
      "metadata": {
        "id": "W4z3JpMeYj4O",
        "colab": {
          "base_uri": "https://localhost:8080/"
        },
        "outputId": "cdc65a1e-ad03-4145-97b2-dbbd666e8bcb"
      },
      "source": [
        "get_gain(y_pred, y_test, X_test[:, 0])"
      ],
      "execution_count": null,
      "outputs": [
        {
          "output_type": "execute_result",
          "data": {
            "text/plain": [
              "0.1689122300808145"
            ]
          },
          "metadata": {
            "tags": []
          },
          "execution_count": 110
        }
      ]
    },
    {
      "cell_type": "markdown",
      "metadata": {
        "id": "DfUrYygzVFAX"
      },
      "source": [
        "И рассмотрим как значение критерия зависит от параметра $x$"
      ]
    },
    {
      "cell_type": "code",
      "metadata": {
        "colab": {
          "base_uri": "https://localhost:8080/",
          "height": 282
        },
        "id": "cw6ZTqB-VIyr",
        "outputId": "bf2ab04f-e7cb-4fe0-8af9-2c85dd28767c"
      },
      "source": [
        "x_s = np.linspace(0, 100, num=100)\n",
        "y_s = [get_gain(get_prediction(rlf_baseline, X_test, y_test, x=cur), y_test, X_test[:, 0], x=cur) for cur in x_s]\n",
        "\n",
        "plt.plot(x_s, y_s)"
      ],
      "execution_count": null,
      "outputs": [
        {
          "output_type": "execute_result",
          "data": {
            "text/plain": [
              "[<matplotlib.lines.Line2D at 0x7f8f3dc26b90>]"
            ]
          },
          "metadata": {
            "tags": []
          },
          "execution_count": 111
        },
        {
          "output_type": "display_data",
          "data": {
            "image/png": "[encoded data removed]",
            "text/plain": [
              "<Figure size 432x288 with 1 Axes>"
            ]
          },
          "metadata": {
            "tags": [],
            "needs_background": "light"
          }
        }
      ]
    },
    {
      "cell_type": "markdown",
      "metadata": {
        "id": "91QxxbjHx46G"
      },
      "source": [
        "Также сравним со **случайным классификатором**"
      ]
    },
    {
      "cell_type": "code",
      "metadata": {
        "colab": {
          "base_uri": "https://localhost:8080/"
        },
        "id": "atX_BZtEyOnX",
        "outputId": "b8fdff3e-0f4c-4a69-ea8a-fe31da48b0e6"
      },
      "source": [
        "random_dummy = DummyClassifier(strategy=\"uniform\")\n",
        "y_pred = run(random_dummy, X_train, y_train, X_test, y_test, name='Random Forest', x=15)"
      ],
      "execution_count": null,
      "outputs": [
        {
          "output_type": "stream",
          "text": [
            "====== Random Forest ======\n",
            "\n",
            "Accuracy:\t0.5458612975391499\n",
            "Pos/neg ratio:\t0.8244897959183674\n",
            "\n",
            "Kappa coef:\t0.040295713424501126\n",
            "Matthews coef:\t0.04613484159966726\n",
            "ROC-AUC value:\t0.5\n",
            "PR-AUC value:\t0.610738255033557\n",
            "\n",
            "Precision:\t0.24257425742574257\n",
            "Recall: \t0.494949494949495\n",
            "F-score:\t0.3255813953488372\n",
            "Financial gain:\t0.09752982159822654\n",
            "\n",
            "===========================\n",
            "Time elapsed: 0m 0s\n"
          ],
          "name": "stdout"
        }
      ]
    },
    {
      "cell_type": "markdown",
      "metadata": {
        "id": "RX5YH8Wdx9bq"
      },
      "source": [
        "И **константным классификатором**"
      ]
    },
    {
      "cell_type": "code",
      "metadata": {
        "colab": {
          "base_uri": "https://localhost:8080/"
        },
        "id": "-swCEp5XyR19",
        "outputId": "d4c19956-8bdf-4a94-cfec-f0db0e9dfba7"
      },
      "source": [
        "constant_dummy = DummyClassifier(strategy=\"most_frequent\")\n",
        "y_pred = run(constant_dummy, X_train, y_train, X_test, y_test, name='Random Forest', x=15)"
      ],
      "execution_count": null,
      "outputs": [
        {
          "output_type": "stream",
          "text": [
            "====== Random Forest ======\n",
            "\n",
            "Accuracy:\t0.7785234899328859\n",
            "Pos/neg ratio:\t0.0\n",
            "\n",
            "Kappa coef:\t0.0\n",
            "Matthews coef:\t0\n",
            "ROC-AUC value:\t0.5\n",
            "PR-AUC value:\t0.610738255033557\n",
            "\n",
            "Precision:\t0.0\n",
            "Recall: \t0.0\n",
            "F-score:\tnan\n",
            "Financial gain:\t0.0\n",
            "\n",
            "===========================\n",
            "Time elapsed: 0m 0s\n"
          ],
          "name": "stdout"
        },
        {
          "output_type": "stream",
          "text": [
            "/usr/local/lib/python3.7/dist-packages/sklearn/metrics/_classification.py:1272: UndefinedMetricWarning:\n",
            "\n",
            "Precision is ill-defined and being set to 0.0 due to no predicted samples. Use `zero_division` parameter to control this behavior.\n",
            "\n",
            "/usr/local/lib/python3.7/dist-packages/ipykernel_launcher.py:20: RuntimeWarning:\n",
            "\n",
            "invalid value encountered in double_scalars\n",
            "\n"
          ],
          "name": "stderr"
        }
      ]
    },
    {
      "cell_type": "markdown",
      "metadata": {
        "id": "fdxOHu6Ir2Ay"
      },
      "source": [
        "# Стандартные методы классификации"
      ]
    },
    {
      "cell_type": "markdown",
      "metadata": {
        "id": "3h1MEChntpn5"
      },
      "source": [
        "###Логистическая регрессия "
      ]
    },
    {
      "cell_type": "code",
      "metadata": {
        "id": "v82YRBIfr6Dv"
      },
      "source": [
        "def objective(trial: Trial, X_train, y_train, X_val, y_val, financial=False, verbose=False) -> float:\n",
        "    \n",
        "    param = {\n",
        "                'C':trial.suggest_loguniform('C', 0.1, 10),\n",
        "                'solver':trial.suggest_categorical('solver', ['lbfgs', 'liblinear']),\n",
        "            }\n",
        "\n",
        "    mod = LogisticRegression(**param, random_state=179, max_iter=1000)\n",
        "    mod.fit(X_train, y_train)\n",
        "\n",
        "    if not financial:\n",
        "        auc_pr = auc(*reversed((precision_recall_curve(y_val, mod.predict_proba(X_val)[:, 1]))[:2]))\n",
        "        res = auc_pr\n",
        "    else:\n",
        "        loan = X_val[:, 0]\n",
        "        y_pred_financial = get_prediction(mod, X_val, y_val)\n",
        "        gains = get_gain(y_pred_financial, y_val, loan, x=15)\n",
        "        res = gains\n",
        "\n",
        "    if verbose:\n",
        "        print(\"Trial:\", print_vals(param), end=';\\t')\n",
        "        print('Result', res, end=';\\t')\n",
        "        print(\"Time elapsed: \" + string_time(time() - start))\n",
        "\n",
        "    return res"
      ],
      "execution_count": null,
      "outputs": []
    },
    {
      "cell_type": "code",
      "metadata": {
        "colab": {
          "base_uri": "https://localhost:8080/"
        },
        "id": "i0XPppoguyIf",
        "outputId": "603b5e33-3404-40d0-e995-e62417e845fd"
      },
      "source": [
        "%%time\n",
        "study_logreg = optuna.create_study(direction='maximize', sampler=TPESampler())\n",
        "study_logreg.optimize(lambda trial : objective(trial, X_train, y_train, X_val, y_val, financial=False), n_trials=100)\n",
        "print('Best trial: score {},\\nparams {}'.format(study_logreg.best_trial.value, study_logreg.best_trial.params))"
      ],
      "execution_count": null,
      "outputs": [
        {
          "output_type": "stream",
          "text": [
            "Best trial: score 0.5591326948459276,\n",
            "params {'C': 0.13851857591564923, 'solver': 'liblinear'}\n",
            "CPU times: user 4.26 s, sys: 2.18 s, total: 6.44 s\n",
            "Wall time: 3.92 s\n"
          ],
          "name": "stdout"
        }
      ]
    },
    {
      "cell_type": "code",
      "metadata": {
        "colab": {
          "base_uri": "https://localhost:8080/"
        },
        "id": "lR64dr0kwUCh",
        "outputId": "e137104b-685b-42d8-ffca-03cb18ed434e"
      },
      "source": [
        "logreg = LogisticRegression(**study_logreg.best_trial.params, random_state=179, max_iter=1000)\n",
        "y_pred = run(logreg, X_train, y_train, X_test, y_test, name='LogReg', x=15)"
      ],
      "execution_count": null,
      "outputs": [
        {
          "output_type": "stream",
          "text": [
            "====== LogReg ======\n",
            "\n",
            "Accuracy:\t0.8210290827740492\n",
            "Pos/neg ratio:\t0.09024390243902439\n",
            "\n",
            "Kappa coef:\t0.33116373022107515\n",
            "Matthews coef:\t0.38724913340145206\n",
            "ROC-AUC value:\t0.7610298386160455\n",
            "PR-AUC value:\t0.566865592047224\n",
            "\n",
            "Precision:\t0.7567567567567568\n",
            "Recall: \t0.2828282828282828\n",
            "F-score:\t0.4117647058823529\n",
            "Financial gain:\t0.10221858615714839\n",
            "\n",
            "====================\n",
            "Time elapsed: 0m 0s\n"
          ],
          "name": "stdout"
        }
      ]
    },
    {
      "cell_type": "code",
      "metadata": {
        "colab": {
          "base_uri": "https://localhost:8080/"
        },
        "id": "BYA1GnHHy7cl",
        "outputId": "c81b6054-c002-47e0-f335-f8aaf02e1df4"
      },
      "source": [
        "%%time\n",
        "study_logreg_f = optuna.create_study(direction='maximize', sampler=TPESampler())\n",
        "study_logreg_f.optimize(lambda trial : objective(trial, X_train, y_train, X_val, y_val, financial=True), n_trials=100)\n",
        "print('Best trial: score {},\\nparams {}'.format(study_logreg_f.best_trial.value, study_logreg_f.best_trial.params))"
      ],
      "execution_count": null,
      "outputs": [
        {
          "output_type": "stream",
          "text": [
            "Best trial: score 0.07324742204231192,\n",
            "params {'C': 0.14648123713571498, 'solver': 'lbfgs'}\n",
            "CPU times: user 7.4 s, sys: 5.45 s, total: 12.8 s\n",
            "Wall time: 6.58 s\n"
          ],
          "name": "stdout"
        }
      ]
    },
    {
      "cell_type": "code",
      "metadata": {
        "colab": {
          "base_uri": "https://localhost:8080/"
        },
        "id": "1WeA6fk9y5Hn",
        "outputId": "8bcb4453-d39d-4cdd-b739-61a9727d4fea"
      },
      "source": [
        "logreg_f = LogisticRegression(**study_logreg_f.best_trial.params, random_state=179, max_iter=1000)\n",
        "y_pred = run(logreg_f, X_train, y_train, X_test, y_test, name='LogReg G', x=15)"
      ],
      "execution_count": null,
      "outputs": [
        {
          "output_type": "stream",
          "text": [
            "====== LogReg G ======\n",
            "\n",
            "Accuracy:\t0.7807606263982103\n",
            "Pos/neg ratio:\t0.002242152466367713\n",
            "\n",
            "Kappa coef:\t0.015639746528246255\n",
            "Matthews coef:\t0.08877784430449509\n",
            "ROC-AUC value:\t0.6342737722048066\n",
            "PR-AUC value:\t0.37568536295799004\n",
            "\n",
            "Precision:\t1.0\n",
            "Recall: \t0.010101010101010102\n",
            "F-score:\t0.02\n",
            "Financial gain:\t0.07477685116764606\n",
            "\n",
            "======================\n",
            "Time elapsed: 0m 0s\n"
          ],
          "name": "stdout"
        }
      ]
    },
    {
      "cell_type": "markdown",
      "metadata": {
        "id": "doE2Nauczfl8"
      },
      "source": [
        "### Градиентный бустинг (catboost)"
      ]
    },
    {
      "cell_type": "code",
      "metadata": {
        "id": "AuKfEp7xzoUH"
      },
      "source": [
        "def objective(trial: Trial, X_train, y_train, X_val, y_val, financial=False, verbose=False) -> float:\n",
        "    \n",
        "    param = {\n",
        "        'iterations' : trial.suggest_int('iterations', 50, 300),                         \n",
        "        'depth' : trial.suggest_int('depth', 4, 10),                                       \n",
        "        #'learning_rate' : trial.suggest_loguniform('learning_rate', 0.01, 0.3),               \n",
        "        'random_strength' :trial.suggest_int('random_strength', 0, 100),                       \n",
        "        'bagging_temperature' :trial.suggest_loguniform('bagging_temperature', 0.01, 100.00),\n",
        "        'learning_rate' :trial.suggest_loguniform('learning_rate', 1e-3, 1e-1),\n",
        "        'od_type': trial.suggest_categorical('od_type', ['IncToDec', 'Iter'])\n",
        "    }\n",
        "\n",
        "    mod = CatBoostClassifier(**param, random_state=179, task_type=\"GPU\")\n",
        "    mod.fit(X_train, y_train,\n",
        "            eval_set=((X_val, y_val)),\n",
        "            early_stopping_rounds=100,\n",
        "            logging_level='Silent',\n",
        "        )\n",
        "\n",
        "    if not financial:\n",
        "        auc_pr = auc(*reversed((precision_recall_curve(y_val, mod.predict_proba(X_val)[:, 1]))[:2]))\n",
        "        res = auc_pr\n",
        "    else:\n",
        "        loan = X_val[:, 0]\n",
        "        y_pred_financial = get_prediction(mod, X_val, y_val)\n",
        "        gains = get_gain(y_pred_financial, y_val, loan, x=15)\n",
        "        res = gains\n",
        "\n",
        "    if verbose:\n",
        "        print(\"Trial:\", print_vals(param), end=';\\t')\n",
        "        print('Result', res, end=';\\t')\n",
        "        print(\"Time elapsed: \" + string_time(time() - start))\n",
        "\n",
        "    return res"
      ],
      "execution_count": null,
      "outputs": []
    },
    {
      "cell_type": "code",
      "metadata": {
        "colab": {
          "base_uri": "https://localhost:8080/"
        },
        "id": "yaQb99ZM0_dl",
        "outputId": "d37cb35b-9caf-4d74-9091-d7a8f11db1db"
      },
      "source": [
        "%%time\n",
        "start = time()\n",
        "study_catboost = optuna.create_study(direction='maximize', sampler=TPESampler())\n",
        "study_catboost.optimize(lambda trial : objective(trial, X_train, y_train, X_val, y_val, financial=False), n_trials=100)\n",
        "print('Best trial: score {},\\nparams {}'.format(study_catboost.best_trial.value, study_catboost.best_trial.params))"
      ],
      "execution_count": null,
      "outputs": [
        {
          "output_type": "stream",
          "text": [
            "Best trial: score 0.957946692058554,\n",
            "params {'iterations': 287, 'depth': 10, 'random_strength': 12, 'bagging_temperature': 5.859314223946918, 'learning_rate': 0.08103220429213837, 'od_type': 'IncToDec'}\n",
            "CPU times: user 6min 10s, sys: 3min 44s, total: 9min 55s\n",
            "Wall time: 5min 56s\n"
          ],
          "name": "stdout"
        }
      ]
    },
    {
      "cell_type": "code",
      "metadata": {
        "colab": {
          "base_uri": "https://localhost:8080/"
        },
        "id": "UjtFIvNg0_dn",
        "outputId": "f9b56040-544a-4e97-bc7f-d7e60386aaa3"
      },
      "source": [
        "catboost = CatBoostClassifier(**study_catboost.best_trial.params, random_state=179, task_type=\"GPU\")\n",
        "y_pred = run(catboost, X_train, y_train, X_test, y_test, name='Catboost', x=15)"
      ],
      "execution_count": null,
      "outputs": [
        {
          "output_type": "stream",
          "text": [
            "====== Catboost ======\n",
            "\n",
            "Accuracy:\t0.9530201342281879\n",
            "Pos/neg ratio:\t0.21798365122615804\n",
            "\n",
            "Kappa coef:\t0.8537235285867887\n",
            "Matthews coef:\t0.8612998123681417\n",
            "ROC-AUC value:\t0.9860965981655637\n",
            "PR-AUC value:\t0.975230171524463\n",
            "\n",
            "Precision:\t0.9875\n",
            "Recall: \t0.797979797979798\n",
            "F-score:\t0.88268156424581\n",
            "Financial gain:\t0.19259767526420118\n",
            "\n",
            "======================\n",
            "Time elapsed: 0m 5s\n"
          ],
          "name": "stdout"
        }
      ]
    },
    {
      "cell_type": "markdown",
      "metadata": {
        "id": "tVJaHKtme6uy"
      },
      "source": [
        "Этот бустинг показал себя лучше всех (в сравнении с двумя следующими), поэтому попробуем прооптимизировать именно его по другой метрике:"
      ]
    },
    {
      "cell_type": "code",
      "metadata": {
        "colab": {
          "base_uri": "https://localhost:8080/"
        },
        "id": "2IMyx1Ha0_dn",
        "outputId": "18ac82eb-1b2a-4f89-e646-39315a6a0f27"
      },
      "source": [
        "%%time\n",
        "study_catboost_f = optuna.create_study(direction='maximize', sampler=TPESampler())\n",
        "study_catboost_f.optimize(lambda trial : objective(trial, X_train, y_train, X_val, y_val, financial=True), n_trials=100)\n",
        "print('Best trial: score {},\\nparams {}'.format(study_catboost_f.best_trial.value, study_catboost_f.best_trial.params))"
      ],
      "execution_count": null,
      "outputs": [
        {
          "output_type": "stream",
          "text": [
            "Best trial: score 0.1755171389311843,\n",
            "params {'iterations': 289, 'depth': 9, 'random_strength': 9, 'bagging_temperature': 0.8214215254433717, 'learning_rate': 0.0688597515877417, 'od_type': 'IncToDec'}\n",
            "CPU times: user 5min 21s, sys: 3min 15s, total: 8min 37s\n",
            "Wall time: 5min 16s\n"
          ],
          "name": "stdout"
        }
      ]
    },
    {
      "cell_type": "code",
      "metadata": {
        "colab": {
          "base_uri": "https://localhost:8080/"
        },
        "id": "dWxTz-mE0_dq",
        "outputId": "3e2ac2d6-103f-476a-d939-9ec6e4315c39"
      },
      "source": [
        "catboost_f = CatBoostClassifier(**study_catboost_f.best_trial.params, random_state=179, task_type=\"GPU\")\n",
        "y_pred = run(catboost_f, X_train, y_train, X_test, y_test, name='Catboost G', x=15)"
      ],
      "execution_count": null,
      "outputs": [
        {
          "output_type": "stream",
          "text": [
            "====== Catboost G ======\n",
            "\n",
            "Accuracy:\t0.9574944071588367\n",
            "Pos/neg ratio:\t0.22465753424657534\n",
            "\n",
            "Kappa coef:\t0.8686737486663265\n",
            "Matthews coef:\t0.8747333816253727\n",
            "ROC-AUC value:\t0.9911180773249739\n",
            "PR-AUC value:\t0.9778273432788465\n",
            "\n",
            "Precision:\t0.9878048780487805\n",
            "Recall: \t0.8181818181818182\n",
            "F-score:\t0.8950276243093922\n",
            "Financial gain:\t0.19504791395427942\n",
            "\n",
            "========================\n",
            "Time elapsed: 0m 3s\n"
          ],
          "name": "stdout"
        }
      ]
    },
    {
      "cell_type": "markdown",
      "metadata": {
        "id": "GC_kxGt2a6vm"
      },
      "source": [
        "### Градиентный бустинг (xgboost)"
      ]
    },
    {
      "cell_type": "code",
      "metadata": {
        "id": "TGhFDQGAa6vu"
      },
      "source": [
        "def objective(trial: Trial, X_train, y_train, X_val, y_val, financial=False, verbose=False) -> float:\n",
        "    \n",
        "    param = {\n",
        "        \"silent\": 0,\n",
        "        \"objective\": \"binary:logistic\",\n",
        "        \"eval_metric\": \"auc\",\n",
        "        \"booster\": trial.suggest_categorical(\"booster\", [\"gbtree\", \"gblinear\", \"dart\"]),\n",
        "        \"lambda\": trial.suggest_loguniform(\"lambda\", 1e-8, 1.0),\n",
        "        \"alpha\": trial.suggest_loguniform(\"alpha\", 1e-8, 1.0),\n",
        "        \"seed\": 179,\n",
        "        \"predictor\":\"gpu_predictor\",\n",
        "    }\n",
        "\n",
        "    if param[\"booster\"] == \"gbtree\" or param[\"booster\"] == \"dart\":\n",
        "        param[\"max_depth\"] = trial.suggest_int(\"max_depth\", 1, 9)\n",
        "        param[\"eta\"] = trial.suggest_loguniform(\"eta\", 1e-8, 1.0)\n",
        "        param[\"gamma\"] = trial.suggest_loguniform(\"gamma\", 1e-8, 1.0)\n",
        "        param[\"grow_policy\"] = trial.suggest_categorical(\"grow_policy\", [\"depthwise\", \"lossguide\"])\n",
        "    if param[\"booster\"] == \"dart\":\n",
        "        param[\"sample_type\"] = trial.suggest_categorical(\"sample_type\", [\"uniform\", \"weighted\"])\n",
        "        param[\"normalize_type\"] = trial.suggest_categorical(\"normalize_type\", [\"tree\", \"forest\"])\n",
        "        param[\"rate_drop\"] = trial.suggest_loguniform(\"rate_drop\", 1e-8, 1.0)\n",
        "        param[\"skip_drop\"] = trial.suggest_loguniform(\"skip_drop\", 1e-8, 1.0)\n",
        "\n",
        "    mod = XGBClassifier(**param)\n",
        "    mod.fit(X_train, y_train,\n",
        "            #eval_set=((X_val, y_val)),\n",
        "            #early_stopping_rounds=100,\n",
        "        )\n",
        "\n",
        "    if not financial:\n",
        "        auc_pr = auc(*reversed((precision_recall_curve(y_val, mod.predict_proba(X_val)[:, 1]))[:2]))\n",
        "        res = auc_pr\n",
        "    else:\n",
        "        loan = X_val[:, 0]\n",
        "        y_pred_financial = get_prediction(mod, X_val, y_val)\n",
        "        gains = get_gain(y_pred_financial, y_val, loan, x=15)\n",
        "        res = gains\n",
        "\n",
        "    if verbose:\n",
        "        print(\"Trial:\", print_vals(param), end=';\\t')\n",
        "        print('Result', res, end=';\\t')\n",
        "        print(\"Time elapsed: \" + string_time(time() - start))\n",
        "\n",
        "    return res"
      ],
      "execution_count": null,
      "outputs": []
    },
    {
      "cell_type": "code",
      "metadata": {
        "colab": {
          "base_uri": "https://localhost:8080/"
        },
        "id": "yZSF6C9fa6vv",
        "outputId": "47df4f6f-6fa7-4a84-d3b2-e916e6286e05"
      },
      "source": [
        "%%time\n",
        "start = time()\n",
        "study_xgboost = optuna.create_study(direction='maximize', sampler=TPESampler())\n",
        "study_xgboost.optimize(lambda trial : objective(trial, X_train, y_train, X_val, y_val, financial=False), n_trials=100)\n",
        "print('Best trial: score {},\\nparams {}'.format(study_xgboost.best_trial.value, study_xgboost.best_trial.params))"
      ],
      "execution_count": null,
      "outputs": [
        {
          "output_type": "stream",
          "text": [
            "Best trial: score 0.8966179130972544,\n",
            "params {'booster': 'dart', 'lambda': 6.520903437932355e-08, 'alpha': 2.5753706202031648e-06, 'max_depth': 9, 'eta': 1.0910605622881362e-08, 'gamma': 6.51697015656391e-07, 'grow_policy': 'lossguide', 'sample_type': 'weighted', 'normalize_type': 'tree', 'rate_drop': 0.002173287066760583, 'skip_drop': 1.1198428075289088e-06}\n",
            "CPU times: user 1min 41s, sys: 39.3 ms, total: 1min 41s\n",
            "Wall time: 1min 40s\n"
          ],
          "name": "stdout"
        }
      ]
    },
    {
      "cell_type": "code",
      "metadata": {
        "colab": {
          "base_uri": "https://localhost:8080/"
        },
        "id": "O0z-CqFOa6vw",
        "outputId": "0144fe38-d0dc-4f09-9396-8efee42e0835"
      },
      "source": [
        "xgboost = XGBClassifier(**study_xgboost.best_trial.params)\n",
        "y_pred = run(xgboost, X_train, y_train, X_test, y_test, name='XGBoost', x=15)"
      ],
      "execution_count": null,
      "outputs": [
        {
          "output_type": "stream",
          "text": [
            "====== XGBoost ======\n",
            "\n",
            "Accuracy:\t0.9440715883668904\n",
            "Pos/neg ratio:\t0.22465753424657534\n",
            "\n",
            "Kappa coef:\t0.8272023008767455\n",
            "Matthews coef:\t0.8329726402405023\n",
            "ROC-AUC value:\t0.9716126785092302\n",
            "PR-AUC value:\t0.9501752367565631\n",
            "\n",
            "Precision:\t0.9512195121951219\n",
            "Recall: \t0.7878787878787878\n",
            "F-score:\t0.861878453038674\n",
            "Financial gain:\t0.18662749099780662\n",
            "\n",
            "=====================\n",
            "Time elapsed: 0m 2s\n"
          ],
          "name": "stdout"
        }
      ]
    },
    {
      "cell_type": "markdown",
      "metadata": {
        "id": "POlUHqYya7IL"
      },
      "source": [
        "### Градиентный бустинг (lightgbm)"
      ]
    },
    {
      "cell_type": "code",
      "metadata": {
        "id": "j_BPhkkia7IL"
      },
      "source": [
        "def objective(trial: Trial, X_train, y_train, X_val, y_val, financial=False, verbose=False) -> float:\n",
        "    \n",
        "    param = {\n",
        "        \"objective\": \"binary\",\n",
        "        \"metric\": \"binary_error\",\n",
        "        \"verbosity\": -1,\n",
        "        \"boosting_type\": \"gbdt\",                \n",
        "        \"seed\": 179,\n",
        "        'lambda_l1': trial.suggest_loguniform('lambda_l1', 1e-8, 10.0),\n",
        "        'lambda_l2': trial.suggest_loguniform('lambda_l2', 1e-8, 10.0),\n",
        "        'num_leaves': trial.suggest_int('num_leaves', 2, 512),\n",
        "        'feature_fraction': trial.suggest_uniform('feature_fraction', 0.1, 1.0),\n",
        "        'bagging_fraction': trial.suggest_uniform('bagging_fraction', 0.1, 1.0),\n",
        "        'bagging_freq': trial.suggest_int('bagging_freq', 0, 15),\n",
        "        'min_child_samples': trial.suggest_int('min_child_samples', 1, 100),\n",
        "    }\n",
        "\n",
        "    mod = LGBMClassifier(**param)\n",
        "    mod.fit(X_train, y_train)\n",
        "\n",
        "    if not financial:\n",
        "        auc_pr = auc(*reversed((precision_recall_curve(y_val, mod.predict_proba(X_val)[:, 1]))[:2]))\n",
        "        res = auc_pr\n",
        "    else:\n",
        "        loan = X_val[:, 0]\n",
        "        y_pred_financial = get_prediction(mod, X_val, y_val)\n",
        "        gains = get_gain(y_pred_financial, y_val, loan, x=15)\n",
        "        res = gains\n",
        "\n",
        "    if verbose:\n",
        "        print(\"Trial:\", print_vals(param), end=';\\t')\n",
        "        print('Result', res, end=';\\t')\n",
        "        print(\"Time elapsed: \" + string_time(time() - start))\n",
        "\n",
        "    return res"
      ],
      "execution_count": null,
      "outputs": []
    },
    {
      "cell_type": "code",
      "metadata": {
        "colab": {
          "base_uri": "https://localhost:8080/"
        },
        "id": "9nUvPIBZa7IM",
        "outputId": "18814e9a-2cdd-4900-fdca-094bff1c6f09"
      },
      "source": [
        "%%time\n",
        "start = time()\n",
        "study_lightgbm = optuna.create_study(direction='maximize', sampler=TPESampler())\n",
        "study_lightgbm.optimize(lambda trial : objective(trial, X_train, y_train, X_val, y_val, financial=False, verbose=False), n_trials=100)\n",
        "print('Best trial: score {},\\nparams {}'.format(study_lightgbm.best_trial.value, study_lightgbm.best_trial.params))"
      ],
      "execution_count": null,
      "outputs": [
        {
          "output_type": "stream",
          "text": [
            "Best trial: score 0.953655700821096,\n",
            "params {'lambda_l1': 6.375953777388818e-05, 'lambda_l2': 7.270828729230591e-05, 'num_leaves': 179, 'feature_fraction': 0.44230882658826254, 'bagging_fraction': 0.7405713173067001, 'bagging_freq': 7, 'min_child_samples': 2}\n",
            "CPU times: user 31.3 s, sys: 1.47 s, total: 32.8 s\n",
            "Wall time: 32.6 s\n"
          ],
          "name": "stdout"
        }
      ]
    },
    {
      "cell_type": "code",
      "metadata": {
        "colab": {
          "base_uri": "https://localhost:8080/"
        },
        "id": "hTXJxvWoa7IM",
        "outputId": "3e6e2b65-80de-46bc-fba3-3dcaec90603e"
      },
      "source": [
        "lightgbm = LGBMClassifier(**study_lightgbm.best_trial.params)\n",
        "y_pred = run(lightgbm, X_train, y_train, X_test, y_test, name='LightGBM', x=15)"
      ],
      "execution_count": null,
      "outputs": [
        {
          "output_type": "stream",
          "text": [
            "====== LightGBM ======\n",
            "\n",
            "Accuracy:\t0.9440715883668904\n",
            "Pos/neg ratio:\t0.19839142091152814\n",
            "\n",
            "Kappa coef:\t0.8217106207820802\n",
            "Matthews coef:\t0.8350903566741866\n",
            "ROC-AUC value:\t0.9805236270753512\n",
            "PR-AUC value:\t0.9632655925497828\n",
            "\n",
            "Precision:\t1.0\n",
            "Recall: \t0.7474747474747475\n",
            "F-score:\t0.8554913294797689\n",
            "Financial gain:\t0.18414675627807686\n",
            "\n",
            "======================\n",
            "Time elapsed: 0m 0s\n"
          ],
          "name": "stdout"
        }
      ]
    },
    {
      "cell_type": "markdown",
      "metadata": {
        "id": "3LoKNL5x0u5d"
      },
      "source": [
        "### Случайный лес"
      ]
    },
    {
      "cell_type": "code",
      "metadata": {
        "id": "zGWBrjjT1B0V"
      },
      "source": [
        "def objective(trial: Trial, X_train, y_train, X_val, y_val, financial=False, verbose=False) -> float:\n",
        "    \n",
        "    param = {\n",
        "            'n_estimators': trial.suggest_int('n_estimators', 50, 1000),\n",
        "            'max_depth': trial.suggest_int('max_depth', 4, 50),\n",
        "            'min_samples_split': trial.suggest_int('min_samples_split', 2, 150),\n",
        "            'min_samples_leaf': trial.suggest_int('min_samples_leaf', 1, 60),\n",
        "        }\n",
        "\n",
        "    mod = RandomForestClassifier(**param, random_state=179, n_jobs=-1)\n",
        "    mod.fit(X_train, y_train)\n",
        "\n",
        "    if not financial:\n",
        "        auc_pr = auc(*reversed((precision_recall_curve(y_val, mod.predict_proba(X_val)[:, 1]))[:2]))\n",
        "        res = auc_pr\n",
        "    else:\n",
        "        loan = X_val[:, 0]\n",
        "        y_pred_financial = get_prediction(mod, X_val, y_val)\n",
        "        gains = get_gain(y_pred_financial, y_val, loan, x=15)\n",
        "        res = gains\n",
        "\n",
        "    if verbose:\n",
        "        print(\"Trial:\", print_vals(param), end=';\\t')\n",
        "        print('Result', res, end=';\\t')\n",
        "        print(\"Time elapsed: \" + string_time(time() - start))\n",
        "\n",
        "    return res"
      ],
      "execution_count": null,
      "outputs": []
    },
    {
      "cell_type": "code",
      "metadata": {
        "colab": {
          "base_uri": "https://localhost:8080/"
        },
        "id": "vvSUrXl51B0W",
        "outputId": "84033848-77e8-4f78-a05f-2c28e9259bbc"
      },
      "source": [
        "%%time\n",
        "start = time()\n",
        "study_forest = optuna.create_study(direction='maximize', sampler=TPESampler())\n",
        "study_forest.optimize(lambda trial : objective(trial, X_train, y_train, X_val, y_val, financial=False, verbose=False), n_trials=100)\n",
        "print('Best trial: score {},\\nparams {}'.format(study_forest.best_trial.value, study_forest.best_trial.params))"
      ],
      "execution_count": null,
      "outputs": [
        {
          "output_type": "stream",
          "text": [
            "Best trial: score 0.9280802627542757,\n",
            "params {'n_estimators': 914, 'max_depth': 19, 'min_samples_split': 7, 'min_samples_leaf': 1}\n",
            "CPU times: user 11min 8s, sys: 17.7 s, total: 11min 25s\n",
            "Wall time: 6min 35s\n"
          ],
          "name": "stdout"
        }
      ]
    },
    {
      "cell_type": "code",
      "metadata": {
        "colab": {
          "base_uri": "https://localhost:8080/"
        },
        "id": "V-c6IPyE1B0X",
        "outputId": "9aeb6fea-eb35-485e-b6c4-6300089a3df2"
      },
      "source": [
        "forest = RandomForestClassifier(**study_forest.best_trial.params, random_state=179, n_jobs=-1)\n",
        "y_pred = run(forest, X_train, y_train, X_test, y_test, name='Random Forest', x=15)"
      ],
      "execution_count": null,
      "outputs": [
        {
          "output_type": "stream",
          "text": [
            "====== Random Forest ======\n",
            "\n",
            "Accuracy:\t0.9351230425055929\n",
            "Pos/neg ratio:\t0.192\n",
            "\n",
            "Kappa coef:\t0.7915279587012111\n",
            "Matthews coef:\t0.806872408809275\n",
            "ROC-AUC value:\t0.9831069313827935\n",
            "PR-AUC value:\t0.9603078432233794\n",
            "\n",
            "Precision:\t0.9861111111111112\n",
            "Recall: \t0.7171717171717171\n",
            "F-score:\t0.8304093567251463\n",
            "Financial gain:\t0.1918170941975439\n",
            "\n",
            "===========================\n",
            "Time elapsed: 0m 4s\n"
          ],
          "name": "stdout"
        }
      ]
    },
    {
      "cell_type": "code",
      "metadata": {
        "colab": {
          "base_uri": "https://localhost:8080/"
        },
        "id": "qX3ZuX1n1B0X",
        "outputId": "f6680b37-8cb4-49b9-e6d9-6774b2ae4285"
      },
      "source": [
        "%%time\n",
        "study_forest_f = optuna.create_study(direction='maximize', sampler=TPESampler())\n",
        "study_forest_f.optimize(lambda trial : objective(trial, X_train, y_train, X_val, y_val, financial=True), n_trials=100)\n",
        "print('Best trial: score {},\\nparams {}'.format(study_forest_f.best_trial.value, study_forest_f.best_trial.params))"
      ],
      "execution_count": null,
      "outputs": [
        {
          "output_type": "stream",
          "text": [
            "Best trial: score 0.17135960188658225,\n",
            "params {'n_estimators': 54, 'max_depth': 37, 'min_samples_split': 2, 'min_samples_leaf': 1}\n",
            "CPU times: user 8min 28s, sys: 13.6 s, total: 8min 42s\n",
            "Wall time: 5min 3s\n"
          ],
          "name": "stdout"
        }
      ]
    },
    {
      "cell_type": "code",
      "metadata": {
        "colab": {
          "base_uri": "https://localhost:8080/"
        },
        "id": "36pQ0U2D1B0Y",
        "outputId": "28bf4848-a7ce-48d2-b5df-004bc253b5dc"
      },
      "source": [
        "forest_f = RandomForestClassifier(**study_forest_f.best_trial.params, random_state=179, n_jobs=-1)\n",
        "y_pred = run(forest_f, X_train, y_train, X_test, y_test, name='Random Forest G', x=15)"
      ],
      "execution_count": null,
      "outputs": [
        {
          "output_type": "stream",
          "text": [
            "====== Random Forest G ======\n",
            "\n",
            "Accuracy:\t0.9395973154362416\n",
            "Pos/neg ratio:\t0.19839142091152814\n",
            "\n",
            "Kappa coef:\t0.8074474704446464\n",
            "Matthews coef:\t0.8205949625520461\n",
            "ROC-AUC value:\t0.9876204574480436\n",
            "PR-AUC value:\t0.9708241901233998\n",
            "\n",
            "Precision:\t0.9864864864864865\n",
            "Recall: \t0.7373737373737373\n",
            "F-score:\t0.8439306358381503\n",
            "Financial gain:\t0.19907221694406324\n",
            "\n",
            "=============================\n",
            "Time elapsed: 0m 0s\n"
          ],
          "name": "stdout"
        }
      ]
    },
    {
      "cell_type": "markdown",
      "metadata": {
        "id": "TrICsnc3mgxB"
      },
      "source": [
        "# Аугментация данных"
      ]
    },
    {
      "cell_type": "markdown",
      "metadata": {
        "id": "RIQdaxxJEylC"
      },
      "source": [
        "Давайте попробуем лучшие из рассмотренных моделей с использованием апсемплинга минорного класса. Так как отношение размеров классов уже близкое, стоит увеличивать его только до равенства классов."
      ]
    },
    {
      "cell_type": "markdown",
      "metadata": {
        "id": "sSaWqRRfEPRA"
      },
      "source": [
        "### SMOTE"
      ]
    },
    {
      "cell_type": "code",
      "metadata": {
        "colab": {
          "base_uri": "https://localhost:8080/"
        },
        "id": "krS5dgqHjNJL",
        "outputId": "a4180adb-dda9-469c-e1cf-bd042e0f4a47"
      },
      "source": [
        "X_train_aug, y_train_aug = SMOTE(random_state=179, n_jobs=-1).fit_resample(X_train, y_train)"
      ],
      "execution_count": null,
      "outputs": [
        {
          "output_type": "stream",
          "text": [
            "/usr/local/lib/python3.7/dist-packages/sklearn/utils/deprecation.py:87: FutureWarning:\n",
            "\n",
            "Function safe_indexing is deprecated; safe_indexing is deprecated in version 0.22 and will be removed in version 0.24.\n",
            "\n"
          ],
          "name": "stderr"
        }
      ]
    },
    {
      "cell_type": "code",
      "metadata": {
        "colab": {
          "base_uri": "https://localhost:8080/"
        },
        "id": "cTTYmxUxFLhA",
        "outputId": "22780d15-b267-4074-be57-3e3f01a75d90"
      },
      "source": [
        "forest_smote = RandomForestClassifier(**study_forest.best_trial.params, random_state=179, n_jobs=-1)\n",
        "y_pred = run(forest_smote, X_train_aug, y_train_aug, X_test, y_test, name='Forest SMOTE', x=15)"
      ],
      "execution_count": null,
      "outputs": [
        {
          "output_type": "stream",
          "text": [
            "====== Forest SMOTE ======\n",
            "\n",
            "Accuracy:\t0.9485458612975392\n",
            "Pos/neg ratio:\t0.22465753424657534\n",
            "\n",
            "Kappa coef:\t0.8410261168066058\n",
            "Matthews coef:\t0.8468928873687924\n",
            "ROC-AUC value:\t0.9893765238592824\n",
            "PR-AUC value:\t0.9634371870800584\n",
            "\n",
            "Precision:\t0.9634146341463414\n",
            "Recall: \t0.797979797979798\n",
            "F-score:\t0.8729281767955802\n",
            "Financial gain:\t0.1894002838476606\n",
            "\n",
            "==========================\n",
            "Time elapsed: 0m 7s\n"
          ],
          "name": "stdout"
        }
      ]
    },
    {
      "cell_type": "markdown",
      "metadata": {
        "id": "wgRbaAgYFi1r"
      },
      "source": [
        "### SVMSMOTE"
      ]
    },
    {
      "cell_type": "code",
      "metadata": {
        "id": "WCOeEj01FjdO"
      },
      "source": [
        "%%capture\n",
        "X_train_aug, y_train_aug = SVMSMOTE(random_state=179, n_jobs=-1).fit_resample(X_train, y_train)"
      ],
      "execution_count": null,
      "outputs": []
    },
    {
      "cell_type": "code",
      "metadata": {
        "colab": {
          "base_uri": "https://localhost:8080/"
        },
        "id": "HIXKoiE3Fw4U",
        "outputId": "ea2283e4-5cbf-46c1-822b-95812761768a"
      },
      "source": [
        "forest_svmsmote = RandomForestClassifier(**study_forest.best_trial.params, random_state=179, n_jobs=-1)\n",
        "y_pred = run(forest_svmsmote, X_train_aug, y_train_aug, X_test, y_test, name='Forest SVMSMOTE', x=15)"
      ],
      "execution_count": null,
      "outputs": [
        {
          "output_type": "stream",
          "text": [
            "====== Forest SVMSMOTE ======\n",
            "\n",
            "Accuracy:\t0.9463087248322147\n",
            "Pos/neg ratio:\t0.21467391304347827\n",
            "\n",
            "Kappa coef:\t0.8321757086540266\n",
            "Matthews coef:\t0.8404353426826142\n",
            "ROC-AUC value:\t0.9788691512829445\n",
            "PR-AUC value:\t0.9561118101837778\n",
            "\n",
            "Precision:\t0.9746835443037974\n",
            "Recall: \t0.7777777777777778\n",
            "F-score:\t0.8651685393258427\n",
            "Financial gain:\t0.18234807699074562\n",
            "\n",
            "=============================\n",
            "Time elapsed: 0m 7s\n"
          ],
          "name": "stdout"
        }
      ]
    },
    {
      "cell_type": "markdown",
      "metadata": {
        "id": "D1B2Wu7VUC8o"
      },
      "source": [
        "###ADASYN"
      ]
    },
    {
      "cell_type": "code",
      "metadata": {
        "id": "GsoKaO4iT6yS"
      },
      "source": [
        "%%capture\n",
        "X_train_aug, y_train_aug = ADASYN(random_state=179, n_jobs=-1).fit_resample(X_train, y_train)"
      ],
      "execution_count": null,
      "outputs": []
    },
    {
      "cell_type": "code",
      "metadata": {
        "colab": {
          "base_uri": "https://localhost:8080/"
        },
        "id": "uQCJpvvAT8Vw",
        "outputId": "f56c6d2d-98a5-4de4-fa3b-e185f5964de2"
      },
      "source": [
        "forest_adasyn = RandomForestClassifier(**study_forest.best_trial.params, random_state=179, n_jobs=-1)\n",
        "y_pred = run(forest_adasyn, X_train_aug, y_train_aug, X_test, y_test, name='Forest ADASYN', x=15)"
      ],
      "execution_count": null,
      "outputs": [
        {
          "output_type": "stream",
          "text": [
            "====== Forest ADASYN ======\n",
            "\n",
            "Accuracy:\t0.9552572706935123\n",
            "Pos/neg ratio:\t0.23480662983425415\n",
            "\n",
            "Kappa coef:\t0.8633403650371457\n",
            "Matthews coef:\t0.8673179727189516\n",
            "ROC-AUC value:\t0.990073145245559\n",
            "PR-AUC value:\t0.9644571354232693\n",
            "\n",
            "Precision:\t0.9647058823529412\n",
            "Recall: \t0.8282828282828283\n",
            "F-score:\t0.8913043478260869\n",
            "Financial gain:\t0.190552681891223\n",
            "\n",
            "===========================\n",
            "Time elapsed: 0m 7s\n"
          ],
          "name": "stdout"
        }
      ]
    },
    {
      "cell_type": "markdown",
      "metadata": {
        "id": "aNgHpP7xMDB2"
      },
      "source": [
        "# Сравнение моделей"
      ]
    },
    {
      "cell_type": "code",
      "metadata": {
        "colab": {
          "base_uri": "https://localhost:8080/"
        },
        "id": "zJffBN5DMGb1",
        "outputId": "0768bdcc-712a-45fc-bc7d-6c0c161eb211"
      },
      "source": [
        "names = list(logs.keys())\n",
        "names"
      ],
      "execution_count": null,
      "outputs": [
        {
          "output_type": "execute_result",
          "data": {
            "text/plain": [
              "['Random Forest',\n",
              " 'LogReg',\n",
              " 'LogReg G',\n",
              " 'Catboost',\n",
              " 'Catboost G',\n",
              " 'XGBoost',\n",
              " 'LightGBM',\n",
              " 'Random Forest G',\n",
              " 'Forest SMOTE',\n",
              " 'Forest SVMSMOTE',\n",
              " 'Forest ADASYN']"
            ]
          },
          "metadata": {
            "tags": []
          },
          "execution_count": 141
        }
      ]
    },
    {
      "cell_type": "code",
      "metadata": {
        "id": "Y7ogPOWiMX3_"
      },
      "source": [
        "# [ac, auc_pr, fscore, gains, elapsed, name]\n",
        "names = list(logs.keys())\n",
        "\n",
        "log_data = pd.DataFrame()\n",
        "log_data['model'] = names\n",
        "log_data['accuracy'] = [logs[nm][0] for nm in names]\n",
        "log_data['auc_pr'] = [logs[nm][1] for nm in names]\n",
        "log_data['fscore'] = [logs[nm][2] for nm in names]\n",
        "log_data['gains'] = [logs[nm][3] for nm in names]\n",
        "log_data['time'] = [logs[nm][4] for nm in names]\n",
        "\n",
        "colors = np.array(sns.color_palette(\"hls\", len(names)))"
      ],
      "execution_count": null,
      "outputs": []
    },
    {
      "cell_type": "code",
      "metadata": {
        "id": "XRYE1wdcOoLs"
      },
      "source": [
        "def build_analysis(feat):\n",
        "    plt.figure(figsize=(24, 7))\n",
        "    splot = sns.barplot(x='model', y=feat, data=log_data.sort_values([feat], ascending=False), palette=colors[np.argsort(log_data[feat])[::-1]])\n",
        "\n",
        "    for p in splot.patches:\n",
        "        splot.annotate(format(p.get_height(), '.3f'), \n",
        "                    (p.get_x() + p.get_width() / 2., p.get_height()), \n",
        "                    ha = 'center', va = 'center', \n",
        "                    xytext = (0, 9), \n",
        "                    textcoords = 'offset points')\n",
        "\n",
        "    plt.show()"
      ],
      "execution_count": null,
      "outputs": []
    },
    {
      "cell_type": "markdown",
      "metadata": {
        "id": "Pzz8sbSYOkhz"
      },
      "source": [
        "**Accuracy**"
      ]
    },
    {
      "cell_type": "code",
      "metadata": {
        "colab": {
          "base_uri": "https://localhost:8080/",
          "height": 444
        },
        "id": "QbkfBNm2LmsY",
        "outputId": "fceb3968-1b4d-4308-fe15-d17cd6c4d64a"
      },
      "source": [
        "build_analysis('accuracy')"
      ],
      "execution_count": null,
      "outputs": [
        {
          "output_type": "display_data",
          "data": {
            "image/png": "[encoded data removed]",
            "text/plain": [
              "<Figure size 1728x504 with 1 Axes>"
            ]
          },
          "metadata": {
            "tags": [],
            "needs_background": "light"
          }
        }
      ]
    },
    {
      "cell_type": "markdown",
      "metadata": {
        "id": "We9I3EsoO27X"
      },
      "source": [
        "**PR AUC**"
      ]
    },
    {
      "cell_type": "code",
      "metadata": {
        "colab": {
          "base_uri": "https://localhost:8080/",
          "height": 442
        },
        "id": "sKBQhlX4O6lN",
        "outputId": "4a2f5c49-b25c-497d-f025-b8cbfb838049"
      },
      "source": [
        "build_analysis('auc_pr')"
      ],
      "execution_count": null,
      "outputs": [
        {
          "output_type": "display_data",
          "data": {
            "image/png": "[encoded data removed]",
            "text/plain": [
              "<Figure size 1728x504 with 1 Axes>"
            ]
          },
          "metadata": {
            "tags": [],
            "needs_background": "light"
          }
        }
      ]
    },
    {
      "cell_type": "markdown",
      "metadata": {
        "id": "NFYv2-gJPBu-"
      },
      "source": [
        "**F-мера**"
      ]
    },
    {
      "cell_type": "code",
      "metadata": {
        "colab": {
          "base_uri": "https://localhost:8080/",
          "height": 442
        },
        "id": "2EJiPVFHPBDG",
        "outputId": "f900aef7-3cb5-4c38-d7a7-a2a46f83824f"
      },
      "source": [
        "build_analysis('fscore')"
      ],
      "execution_count": null,
      "outputs": [
        {
          "output_type": "display_data",
          "data": {
            "image/png": "[encoded data removed]",
            "text/plain": [
              "<Figure size 1728x504 with 1 Axes>"
            ]
          },
          "metadata": {
            "tags": [],
            "needs_background": "light"
          }
        }
      ]
    },
    {
      "cell_type": "markdown",
      "metadata": {
        "id": "0qGkgf0GPKO9"
      },
      "source": [
        "**Финансовая выгода**"
      ]
    },
    {
      "cell_type": "code",
      "metadata": {
        "colab": {
          "base_uri": "https://localhost:8080/",
          "height": 442
        },
        "id": "AIQWaSb-PKaz",
        "outputId": "813e0d41-c589-4798-91a7-a25e5e2526a1"
      },
      "source": [
        "build_analysis('gains')"
      ],
      "execution_count": null,
      "outputs": [
        {
          "output_type": "display_data",
          "data": {
            "image/png": "[encoded data removed]",
            "text/plain": [
              "<Figure size 1728x504 with 1 Axes>"
            ]
          },
          "metadata": {
            "tags": [],
            "needs_background": "light"
          }
        }
      ]
    },
    {
      "cell_type": "markdown",
      "metadata": {
        "id": "UFLKARtqPTt-"
      },
      "source": [
        "**Затраченное время**"
      ]
    },
    {
      "cell_type": "code",
      "metadata": {
        "colab": {
          "base_uri": "https://localhost:8080/",
          "height": 442
        },
        "id": "q5IWzuRsPWD_",
        "outputId": "bc0ec5c3-3aec-4477-c9fd-1a0baecf6b4f"
      },
      "source": [
        "build_analysis('time')"
      ],
      "execution_count": null,
      "outputs": [
        {
          "output_type": "display_data",
          "data": {
            "image/png": "[encoded data removed]",
            "text/plain": [
              "<Figure size 1728x504 with 1 Axes>"
            ]
          },
          "metadata": {
            "tags": [],
            "needs_background": "light"
          }
        }
      ]
    },
    {
      "cell_type": "markdown",
      "metadata": {
        "id": "WGVEUSQ2qYL9"
      },
      "source": [
        "Видим, что лучше всего себя показывают Catboost (однако он и работает дольше остальных моделей), и случайный лес, при этом аугментации данных приводят к улушениям одних метрик, и ухудшениям других. В итоге, в качестве оптимальных на этом этапе моделей можно взять \n",
        "\n",
        "\n",
        "1.   Catboost бустинг\n",
        "2.   Случайный лес с гиперпараметрами, перебранными на максимизацию прибыли\n",
        "\n"
      ]
    },
    {
      "cell_type": "markdown",
      "metadata": {
        "id": "PIU5NJdORWwn"
      },
      "source": [
        "# Калибровка моделей"
      ]
    },
    {
      "cell_type": "markdown",
      "metadata": {
        "id": "gduELP8fS7Du"
      },
      "source": [
        "Так как для получения оценки прибыли мы используем вероятности, предсказанные моделью для нашей калибровки, встает вопрос, насколько эффективно выдача нашей модели оценивает реальную вероятность того, что человек вернет кредит. Построим calibration curve, чтобы оценить качество оценки вероятностей лучших моделей."
      ]
    },
    {
      "cell_type": "code",
      "metadata": {
        "colab": {
          "base_uri": "https://localhost:8080/",
          "height": 447
        },
        "id": "ZuBBB9bAnVDA",
        "outputId": "7eb3cd7f-618a-45ab-ac3d-0a7ebd3b0eb9"
      },
      "source": [
        "build_calibration_curve(forest_f, X_test, y_test, sz=(7,7))"
      ],
      "execution_count": null,
      "outputs": [
        {
          "output_type": "display_data",
          "data": {
            "image/png": "[encoded data removed]",
            "text/plain": [
              "<Figure size 504x504 with 1 Axes>"
            ]
          },
          "metadata": {
            "tags": [],
            "needs_background": "light"
          }
        }
      ]
    },
    {
      "cell_type": "code",
      "metadata": {
        "colab": {
          "base_uri": "https://localhost:8080/",
          "height": 583
        },
        "id": "b2RKZdQI5Ymm",
        "outputId": "564d6018-c3b8-478b-e8f3-9728a66ba026"
      },
      "source": [
        "build_calibration_curve(catboost, X_test, y_test, sz=(7,7))"
      ],
      "execution_count": null,
      "outputs": [
        {
          "output_type": "stream",
          "text": [
            "/usr/local/lib/python3.7/dist-packages/ipykernel_launcher.py:5: RuntimeWarning:\n",
            "\n",
            "Mean of empty slice.\n",
            "\n",
            "/usr/local/lib/python3.7/dist-packages/numpy/core/_methods.py:170: RuntimeWarning:\n",
            "\n",
            "invalid value encountered in double_scalars\n",
            "\n"
          ],
          "name": "stderr"
        },
        {
          "output_type": "display_data",
          "data": {
            "image/png": "[encoded data removed]",
            "text/plain": [
              "<Figure size 504x504 with 1 Axes>"
            ]
          },
          "metadata": {
            "tags": [],
            "needs_background": "light"
          }
        }
      ]
    },
    {
      "cell_type": "markdown",
      "metadata": {
        "id": "KkpKL46HpPiG"
      },
      "source": [
        "Как видно, модели не очень хорошо передают настоящее распределение вероятностей. Такую \"S-образную\" форму кривой можно объяснить [$^1$](https://www.cs.cornell.edu/~alexn/papers/calibration.icml05.crc.rev3.pdf) высокой вариативностью каждого из деревьев используемых в RandomForest, в результате чего получить среднее предзсказание деревьев ровно в 0 почти невозможно, так как тогда все деревья должны были бы выдать одно и то же нулевое предсказание, что маловероятно."
      ]
    },
    {
      "cell_type": "markdown",
      "metadata": {
        "id": "ZezZWqzu6Yrt"
      },
      "source": [
        "**Лес**"
      ]
    },
    {
      "cell_type": "code",
      "metadata": {
        "colab": {
          "base_uri": "https://localhost:8080/",
          "height": 324
        },
        "id": "4_Ix1xBO5yyS",
        "outputId": "23878d52-f45f-4447-a04a-973ae2d988a9"
      },
      "source": [
        "cal_rfc = CalibratedClassifierCV(RandomForestClassifier(**study_forest_f.best_trial.params, random_state=179, n_jobs=-1))\n",
        "run(cal_rfc, X_train, y_train, X_test, y_test, name='Forest Cal', x=15)\n",
        "\"done\""
      ],
      "execution_count": null,
      "outputs": [
        {
          "output_type": "stream",
          "text": [
            "====== Forest Cal ======\n",
            "\n",
            "Accuracy:\t0.9664429530201343\n",
            "Pos/neg ratio:\t0.27350427350427353\n",
            "\n",
            "Kappa coef:\t0.901624191205599\n",
            "Matthews coef:\t0.9017987566570709\n",
            "ROC-AUC value:\t0.9903053523743179\n",
            "PR-AUC value:\t0.9763480673072642\n",
            "\n",
            "Precision:\t0.9375\n",
            "Recall: \t0.9090909090909091\n",
            "F-score:\t0.923076923076923\n",
            "Financial gain:\t0.20446884126816567\n",
            "\n",
            "========================\n",
            "Time elapsed: 0m 2s\n"
          ],
          "name": "stdout"
        },
        {
          "output_type": "execute_result",
          "data": {
            "application/vnd.google.colaboratory.intrinsic+json": {
              "type": "string"
            },
            "text/plain": [
              "'done'"
            ]
          },
          "metadata": {
            "tags": []
          },
          "execution_count": 200
        }
      ]
    },
    {
      "cell_type": "code",
      "metadata": {
        "colab": {
          "base_uri": "https://localhost:8080/",
          "height": 447
        },
        "id": "wHFZ07RM51BB",
        "outputId": "f61fb01b-0860-4fc9-cf74-75b22c6db97f"
      },
      "source": [
        "build_calibration_curve(cal_rfc, X_test, y_test, sz=(7,7))"
      ],
      "execution_count": null,
      "outputs": [
        {
          "output_type": "display_data",
          "data": {
            "image/png": "[encoded data removed]",
            "text/plain": [
              "<Figure size 504x504 with 1 Axes>"
            ]
          },
          "metadata": {
            "tags": [],
            "needs_background": "light"
          }
        }
      ]
    },
    {
      "cell_type": "markdown",
      "metadata": {
        "id": "9xa0BwmW6ahg"
      },
      "source": [
        "**Бустинг**"
      ]
    },
    {
      "cell_type": "code",
      "metadata": {
        "id": "ZM_Bp8RdotJk",
        "colab": {
          "base_uri": "https://localhost:8080/",
          "height": 324
        },
        "outputId": "e108c956-ad52-4ed8-e4c5-fc55d831737c"
      },
      "source": [
        "cal_catboost = CalibratedClassifierCV(CatBoostClassifier(**study_catboost.best_trial.params, random_state=179, task_type=\"GPU\"))\n",
        "run(cal_catboost, X_train, y_train, X_test, y_test, name='Catboost Cal', x=15)\n",
        "\"done\""
      ],
      "execution_count": null,
      "outputs": [
        {
          "output_type": "stream",
          "text": [
            "====== Catboost Cal ======\n",
            "\n",
            "Accuracy:\t0.9731543624161074\n",
            "Pos/neg ratio:\t0.2556179775280899\n",
            "\n",
            "Kappa coef:\t0.9198350071736012\n",
            "Matthews coef:\t0.9211514393136315\n",
            "ROC-AUC value:\t0.994339951236503\n",
            "PR-AUC value:\t0.9824515232385878\n",
            "\n",
            "Precision:\t0.978021978021978\n",
            "Recall: \t0.898989898989899\n",
            "F-score:\t0.9368421052631579\n",
            "Financial gain:\t0.19669469955546173\n",
            "\n",
            "==========================\n",
            "Time elapsed: 0m 29s\n"
          ],
          "name": "stdout"
        },
        {
          "output_type": "execute_result",
          "data": {
            "application/vnd.google.colaboratory.intrinsic+json": {
              "type": "string"
            },
            "text/plain": [
              "'done'"
            ]
          },
          "metadata": {
            "tags": []
          },
          "execution_count": 202
        }
      ]
    },
    {
      "cell_type": "code",
      "metadata": {
        "colab": {
          "base_uri": "https://localhost:8080/",
          "height": 583
        },
        "id": "z0Rbfa_kwTxJ",
        "outputId": "1b0ba05b-4be2-4500-a465-850a1548222d"
      },
      "source": [
        "build_calibration_curve(cal_catboost, X_test, y_test, sz=(7,7))"
      ],
      "execution_count": null,
      "outputs": [
        {
          "output_type": "stream",
          "text": [
            "/usr/local/lib/python3.7/dist-packages/ipykernel_launcher.py:5: RuntimeWarning:\n",
            "\n",
            "Mean of empty slice.\n",
            "\n",
            "/usr/local/lib/python3.7/dist-packages/numpy/core/_methods.py:170: RuntimeWarning:\n",
            "\n",
            "invalid value encountered in double_scalars\n",
            "\n"
          ],
          "name": "stderr"
        },
        {
          "output_type": "display_data",
          "data": {
            "image/png": "[encoded data removed]",
            "text/plain": [
              "<Figure size 504x504 with 1 Axes>"
            ]
          },
          "metadata": {
            "tags": [],
            "needs_background": "light"
          }
        }
      ]
    },
    {
      "cell_type": "markdown",
      "metadata": {
        "id": "WFv7KNoY68HA"
      },
      "source": [
        "**Обновленные графики**"
      ]
    },
    {
      "cell_type": "code",
      "metadata": {
        "id": "YsDh11KD67sd"
      },
      "source": [
        "# [ac, auc_pr, fscore, gains, elapsed, name]\n",
        "names = list(logs.keys())\n",
        "\n",
        "log_data = pd.DataFrame()\n",
        "log_data['model'] = names\n",
        "log_data['accuracy'] = [logs[nm][0] for nm in names]\n",
        "log_data['auc_pr'] = [logs[nm][1] for nm in names]\n",
        "log_data['fscore'] = [logs[nm][2] for nm in names]\n",
        "log_data['gains'] = [logs[nm][3] for nm in names]\n",
        "log_data['time'] = [logs[nm][4] for nm in names]\n",
        "\n",
        "colors = np.array(sns.color_palette(\"hls\", len(names)))"
      ],
      "execution_count": null,
      "outputs": []
    },
    {
      "cell_type": "code",
      "metadata": {
        "colab": {
          "base_uri": "https://localhost:8080/",
          "height": 442
        },
        "id": "LODrcN4r6-gI",
        "outputId": "17f0627c-496b-4d6a-da88-dd6785900047"
      },
      "source": [
        "build_analysis('gains')"
      ],
      "execution_count": null,
      "outputs": [
        {
          "output_type": "display_data",
          "data": {
            "image/png": "[encoded data removed]",
            "text/plain": [
              "<Figure size 1728x504 with 1 Axes>"
            ]
          },
          "metadata": {
            "tags": [],
            "needs_background": "light"
          }
        }
      ]
    },
    {
      "cell_type": "code",
      "metadata": {
        "colab": {
          "base_uri": "https://localhost:8080/",
          "height": 442
        },
        "id": "sTRzpx_D7TrE",
        "outputId": "929a4318-3bbb-4adf-cc12-bf007ee4c1b7"
      },
      "source": [
        "build_analysis('auc_pr')"
      ],
      "execution_count": null,
      "outputs": [
        {
          "output_type": "display_data",
          "data": {
            "image/png": "[encoded data removed]",
            "text/plain": [
              "<Figure size 1728x504 with 1 Axes>"
            ]
          },
          "metadata": {
            "tags": [],
            "needs_background": "light"
          }
        }
      ]
    },
    {
      "cell_type": "code",
      "metadata": {
        "colab": {
          "base_uri": "https://localhost:8080/",
          "height": 442
        },
        "id": "D2tze2FU7hFC",
        "outputId": "6084d4e5-3ec9-4dee-b014-9d091c029c87"
      },
      "source": [
        "build_analysis('fscore')"
      ],
      "execution_count": null,
      "outputs": [
        {
          "output_type": "display_data",
          "data": {
            "image/png": "[encoded data removed]",
            "text/plain": [
              "<Figure size 1728x504 with 1 Axes>"
            ]
          },
          "metadata": {
            "tags": [],
            "needs_background": "light"
          }
        }
      ]
    },
    {
      "cell_type": "markdown",
      "metadata": {
        "id": "QRx1VoydwxLo"
      },
      "source": [
        "Калибровка улучшила результаты. В итоге можем установить, что\n",
        " \n",
        "\n",
        "*   наиболее корректно решает задачу предсказания дефолта откалиброваннй градиентный бустинг Catboost\n",
        "*   наибольшую прибыль приносит откалиброванный случайный лес"
      ]
    },
    {
      "cell_type": "code",
      "metadata": {
        "id": "R7zUeU-o8dEd"
      },
      "source": [
        "best_model = cal_catboost"
      ],
      "execution_count": null,
      "outputs": []
    },
    {
      "cell_type": "markdown",
      "metadata": {
        "id": "ZmIzhkLIX5p2"
      },
      "source": [
        "# Графический интерфейс"
      ]
    },
    {
      "cell_type": "code",
      "metadata": {
        "colab": {
          "base_uri": "https://localhost:8080/",
          "height": 419
        },
        "id": "jwZhjUEcYCIF",
        "outputId": "763bc66d-0f06-451c-a514-cf750c4d44b5"
      },
      "source": [
        "df"
      ],
      "execution_count": null,
      "outputs": [
        {
          "output_type": "execute_result",
          "data": {
            "text/html": [
              "<div>\n",
              "<style scoped>\n",
              "    .dataframe tbody tr th:only-of-type {\n",
              "        vertical-align: middle;\n",
              "    }\n",
              "\n",
              "    .dataframe tbody tr th {\n",
              "        vertical-align: top;\n",
              "    }\n",
              "\n",
              "    .dataframe thead th {\n",
              "        text-align: right;\n",
              "    }\n",
              "</style>\n",
              "<table border=\"1\" class=\"dataframe\">\n",
              "  <thead>\n",
              "    <tr style=\"text-align: right;\">\n",
              "      <th></th>\n",
              "      <th>BAD</th>\n",
              "      <th>LOAN</th>\n",
              "      <th>MORTDUE</th>\n",
              "      <th>VALUE</th>\n",
              "      <th>REASON</th>\n",
              "      <th>JOB</th>\n",
              "      <th>YOJ</th>\n",
              "      <th>DEROG</th>\n",
              "      <th>DELINQ</th>\n",
              "      <th>CLAGE</th>\n",
              "      <th>NINQ</th>\n",
              "      <th>CLNO</th>\n",
              "      <th>DEBTINC</th>\n",
              "    </tr>\n",
              "  </thead>\n",
              "  <tbody>\n",
              "    <tr>\n",
              "      <th>0</th>\n",
              "      <td>1</td>\n",
              "      <td>1100</td>\n",
              "      <td>25860.0</td>\n",
              "      <td>39025.0</td>\n",
              "      <td>HomeImp</td>\n",
              "      <td>Other</td>\n",
              "      <td>10.5</td>\n",
              "      <td>0.0</td>\n",
              "      <td>0.0</td>\n",
              "      <td>94.366667</td>\n",
              "      <td>1.0</td>\n",
              "      <td>9.0</td>\n",
              "      <td>NaN</td>\n",
              "    </tr>\n",
              "    <tr>\n",
              "      <th>1</th>\n",
              "      <td>1</td>\n",
              "      <td>1300</td>\n",
              "      <td>70053.0</td>\n",
              "      <td>68400.0</td>\n",
              "      <td>HomeImp</td>\n",
              "      <td>Other</td>\n",
              "      <td>7.0</td>\n",
              "      <td>0.0</td>\n",
              "      <td>2.0</td>\n",
              "      <td>121.833333</td>\n",
              "      <td>0.0</td>\n",
              "      <td>14.0</td>\n",
              "      <td>NaN</td>\n",
              "    </tr>\n",
              "    <tr>\n",
              "      <th>2</th>\n",
              "      <td>1</td>\n",
              "      <td>1500</td>\n",
              "      <td>13500.0</td>\n",
              "      <td>16700.0</td>\n",
              "      <td>HomeImp</td>\n",
              "      <td>Other</td>\n",
              "      <td>4.0</td>\n",
              "      <td>0.0</td>\n",
              "      <td>0.0</td>\n",
              "      <td>149.466667</td>\n",
              "      <td>1.0</td>\n",
              "      <td>10.0</td>\n",
              "      <td>NaN</td>\n",
              "    </tr>\n",
              "    <tr>\n",
              "      <th>3</th>\n",
              "      <td>1</td>\n",
              "      <td>1500</td>\n",
              "      <td>NaN</td>\n",
              "      <td>NaN</td>\n",
              "      <td>NaN</td>\n",
              "      <td>NaN</td>\n",
              "      <td>NaN</td>\n",
              "      <td>NaN</td>\n",
              "      <td>NaN</td>\n",
              "      <td>NaN</td>\n",
              "      <td>NaN</td>\n",
              "      <td>NaN</td>\n",
              "      <td>NaN</td>\n",
              "    </tr>\n",
              "    <tr>\n",
              "      <th>4</th>\n",
              "      <td>0</td>\n",
              "      <td>1700</td>\n",
              "      <td>97800.0</td>\n",
              "      <td>112000.0</td>\n",
              "      <td>HomeImp</td>\n",
              "      <td>Office</td>\n",
              "      <td>3.0</td>\n",
              "      <td>0.0</td>\n",
              "      <td>0.0</td>\n",
              "      <td>93.333333</td>\n",
              "      <td>0.0</td>\n",
              "      <td>14.0</td>\n",
              "      <td>NaN</td>\n",
              "    </tr>\n",
              "    <tr>\n",
              "      <th>...</th>\n",
              "      <td>...</td>\n",
              "      <td>...</td>\n",
              "      <td>...</td>\n",
              "      <td>...</td>\n",
              "      <td>...</td>\n",
              "      <td>...</td>\n",
              "      <td>...</td>\n",
              "      <td>...</td>\n",
              "      <td>...</td>\n",
              "      <td>...</td>\n",
              "      <td>...</td>\n",
              "      <td>...</td>\n",
              "      <td>...</td>\n",
              "    </tr>\n",
              "    <tr>\n",
              "      <th>5955</th>\n",
              "      <td>0</td>\n",
              "      <td>88900</td>\n",
              "      <td>57264.0</td>\n",
              "      <td>90185.0</td>\n",
              "      <td>DebtCon</td>\n",
              "      <td>Other</td>\n",
              "      <td>16.0</td>\n",
              "      <td>0.0</td>\n",
              "      <td>0.0</td>\n",
              "      <td>221.808718</td>\n",
              "      <td>0.0</td>\n",
              "      <td>16.0</td>\n",
              "      <td>36.112347</td>\n",
              "    </tr>\n",
              "    <tr>\n",
              "      <th>5956</th>\n",
              "      <td>0</td>\n",
              "      <td>89000</td>\n",
              "      <td>54576.0</td>\n",
              "      <td>92937.0</td>\n",
              "      <td>DebtCon</td>\n",
              "      <td>Other</td>\n",
              "      <td>16.0</td>\n",
              "      <td>0.0</td>\n",
              "      <td>0.0</td>\n",
              "      <td>208.692070</td>\n",
              "      <td>0.0</td>\n",
              "      <td>15.0</td>\n",
              "      <td>35.859971</td>\n",
              "    </tr>\n",
              "    <tr>\n",
              "      <th>5957</th>\n",
              "      <td>0</td>\n",
              "      <td>89200</td>\n",
              "      <td>54045.0</td>\n",
              "      <td>92924.0</td>\n",
              "      <td>DebtCon</td>\n",
              "      <td>Other</td>\n",
              "      <td>15.0</td>\n",
              "      <td>0.0</td>\n",
              "      <td>0.0</td>\n",
              "      <td>212.279697</td>\n",
              "      <td>0.0</td>\n",
              "      <td>15.0</td>\n",
              "      <td>35.556590</td>\n",
              "    </tr>\n",
              "    <tr>\n",
              "      <th>5958</th>\n",
              "      <td>0</td>\n",
              "      <td>89800</td>\n",
              "      <td>50370.0</td>\n",
              "      <td>91861.0</td>\n",
              "      <td>DebtCon</td>\n",
              "      <td>Other</td>\n",
              "      <td>14.0</td>\n",
              "      <td>0.0</td>\n",
              "      <td>0.0</td>\n",
              "      <td>213.892709</td>\n",
              "      <td>0.0</td>\n",
              "      <td>16.0</td>\n",
              "      <td>34.340882</td>\n",
              "    </tr>\n",
              "    <tr>\n",
              "      <th>5959</th>\n",
              "      <td>0</td>\n",
              "      <td>89900</td>\n",
              "      <td>48811.0</td>\n",
              "      <td>88934.0</td>\n",
              "      <td>DebtCon</td>\n",
              "      <td>Other</td>\n",
              "      <td>15.0</td>\n",
              "      <td>0.0</td>\n",
              "      <td>0.0</td>\n",
              "      <td>219.601002</td>\n",
              "      <td>0.0</td>\n",
              "      <td>16.0</td>\n",
              "      <td>34.571519</td>\n",
              "    </tr>\n",
              "  </tbody>\n",
              "</table>\n",
              "<p>5960 rows × 13 columns</p>\n",
              "</div>"
            ],
            "text/plain": [
              "      BAD   LOAN  MORTDUE     VALUE  ...       CLAGE NINQ  CLNO    DEBTINC\n",
              "0       1   1100  25860.0   39025.0  ...   94.366667  1.0   9.0        NaN\n",
              "1       1   1300  70053.0   68400.0  ...  121.833333  0.0  14.0        NaN\n",
              "2       1   1500  13500.0   16700.0  ...  149.466667  1.0  10.0        NaN\n",
              "3       1   1500      NaN       NaN  ...         NaN  NaN   NaN        NaN\n",
              "4       0   1700  97800.0  112000.0  ...   93.333333  0.0  14.0        NaN\n",
              "...   ...    ...      ...       ...  ...         ...  ...   ...        ...\n",
              "5955    0  88900  57264.0   90185.0  ...  221.808718  0.0  16.0  36.112347\n",
              "5956    0  89000  54576.0   92937.0  ...  208.692070  0.0  15.0  35.859971\n",
              "5957    0  89200  54045.0   92924.0  ...  212.279697  0.0  15.0  35.556590\n",
              "5958    0  89800  50370.0   91861.0  ...  213.892709  0.0  16.0  34.340882\n",
              "5959    0  89900  48811.0   88934.0  ...  219.601002  0.0  16.0  34.571519\n",
              "\n",
              "[5960 rows x 13 columns]"
            ]
          },
          "metadata": {
            "tags": []
          },
          "execution_count": 152
        }
      ]
    },
    {
      "cell_type": "code",
      "metadata": {
        "id": "FYMUXH8lv4s6"
      },
      "source": [
        "%%capture\n",
        "! pip install anvil-uplink\n",
        "import anvil.server\n",
        "anvil.server.connect(\"TPTGFCHA6DFXBNKLUDNBWUM2-B3DCUKXS6BVDGXLO\")"
      ],
      "execution_count": null,
      "outputs": []
    },
    {
      "cell_type": "code",
      "metadata": {
        "id": "OmVttEjcv7nH"
      },
      "source": [
        "@anvil.server.callable\n",
        "def predict_client(LOAN, MORTDUE, VALUE, REASON, JOB, YOJ, DEROG, DELINQ, CLAGE, NINQ, CLNO, DEBTINC):\n",
        "    client = pd.DataFrame()\n",
        "\n",
        "    client['LOAN'] = [LOAN]\n",
        "    client['MORTDUE'] = [MORTDUE]\n",
        "    client['VALUE'] = [VALUE]\n",
        "    client['REASON'] = [REASON]\n",
        "    client['JOB'] = [JOB]\n",
        "    client['YOJ'] = [YOJ]\n",
        "    client['DEROG'] = [DEROG]\n",
        "    client['DELINQ'] = [DELINQ]\n",
        "    client['CLAGE'] = [CLAGE]\n",
        "    client['NINQ'] = [NINQ]\n",
        "    client['CLNO'] = [CLNO]\n",
        "    client['DEBTINC'] = [DEBTINC]\n",
        "\n",
        "    client = client.drop('DEBTINC', axis=1)\n",
        "    client[['JOB', 'REASON']] = client[['JOB', 'REASON']].fillna('NAN')\n",
        "\n",
        "    client = client.fillna(df_pure.mean(axis=0))\n",
        "    X = client.values\n",
        "\n",
        "    X = np.concatenate((X[:, :3], ohe.transform(X[:, [3, 4]]), X[:, 5:]), axis=1)\n",
        "\n",
        "    return best_model.predict(X)[0], 1 - best_model.predict_proba(X)[0][1]"
      ],
      "execution_count": null,
      "outputs": []
    },
    {
      "cell_type": "code",
      "metadata": {
        "colab": {
          "base_uri": "https://localhost:8080/"
        },
        "id": "9xt16gHBzI05",
        "outputId": "6e47f9ec-b21d-4c25-ba09-9704e48d1ba2"
      },
      "source": [
        "ohe.categories_"
      ],
      "execution_count": null,
      "outputs": [
        {
          "output_type": "execute_result",
          "data": {
            "text/plain": [
              "[array(['DebtCon', 'HomeImp', 'NAN'], dtype=object),\n",
              " array(['Mgr', 'NAN', 'Office', 'Other', 'ProfExe', 'Sales', 'Self'],\n",
              "       dtype=object)]"
            ]
          },
          "metadata": {
            "tags": []
          },
          "execution_count": 178
        }
      ]
    },
    {
      "cell_type": "code",
      "metadata": {
        "colab": {
          "base_uri": "https://localhost:8080/"
        },
        "id": "ktDbLkYI3-Aa",
        "outputId": "9dd66c36-6e32-402c-9728-5fa3639cdcc2"
      },
      "source": [
        "def pupa(LOAN, MORTDUE, VALUE, REASON, JOB, YOJ, DEROG, DELINQ, CLAGE, NINQ, CLNO, DEBTINC):\n",
        "    client = pd.DataFrame()\n",
        "\n",
        "    client['LOAN'] = [int(LOAN)]\n",
        "    client['MORTDUE'] = [int(MORTDUE)]\n",
        "    client['VALUE'] = [int(VALUE)]\n",
        "    client['REASON'] = [REASON]\n",
        "    client['JOB'] = [JOB]\n",
        "    client['YOJ'] = [float(YOJ)]\n",
        "    client['DEROG'] = [int(DEROG)]\n",
        "    client['DELINQ'] = [int(DELINQ)]\n",
        "    client['CLAGE'] = [float(CLAGE)]\n",
        "    client['NINQ'] = [int(NINQ)]\n",
        "    client['CLNO'] = [int(CLNO)]\n",
        "    client['DEBTINC'] = [float(DEBTINC)]\n",
        "\n",
        "    client = client.drop('DEBTINC', axis=1)\n",
        "    client[['JOB', 'REASON']] = client[['JOB', 'REASON']].fillna('NAN')\n",
        "\n",
        "    client = client.fillna(df_pure.mean(axis=0))\n",
        "    X = client.values\n",
        "    print(client)\n",
        "    X = np.concatenate((X[:, :3], ohe.transform(X[:, [3, 4]]), X[:, 5:]), axis=1)\n",
        "\n",
        "    return best_model.predict(X)[0], 1 - best_model.predict_proba(X)[0][1]\n",
        "\n",
        "pupa(100, 100, 100, \"HomeImp\", \"Other\", 100, 100, 100, 100, 100, 100, 100)"
      ],
      "execution_count": null,
      "outputs": [
        {
          "output_type": "stream",
          "text": [
            "   LOAN  MORTDUE  VALUE   REASON    JOB  ...  DEROG  DELINQ  CLAGE  NINQ  CLNO\n",
            "0   100      100    100  HomeImp  Other  ...    100     100  100.0   100   100\n",
            "\n",
            "[1 rows x 11 columns]\n"
          ],
          "name": "stdout"
        },
        {
          "output_type": "execute_result",
          "data": {
            "text/plain": [
              "(1, 0.8518518518518519)"
            ]
          },
          "metadata": {
            "tags": []
          },
          "execution_count": 189
        }
      ]
    }
  ]
}